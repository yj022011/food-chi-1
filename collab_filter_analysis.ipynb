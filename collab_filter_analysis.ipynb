{
 "cells": [
  {
   "cell_type": "code",
   "execution_count": 1,
   "metadata": {},
   "outputs": [],
   "source": [
    "import pandas as pd\n",
    "import numpy as np"
   ]
  },
  {
   "cell_type": "code",
   "execution_count": 2,
   "metadata": {},
   "outputs": [],
   "source": [
    "%load_ext autoreload\n",
    "%autoreload 2"
   ]
  },
  {
   "cell_type": "code",
   "execution_count": 3,
   "metadata": {},
   "outputs": [],
   "source": [
    "import matplotlib.pyplot as plt\n",
    "import matplotlib\n",
    "%matplotlib inline\n",
    "\n",
    "matplotlib.style.use('ggplot')"
   ]
  },
  {
   "cell_type": "markdown",
   "metadata": {},
   "source": [
    "# Dataset overview"
   ]
  },
  {
   "cell_type": "code",
   "execution_count": 4,
   "metadata": {
    "scrolled": true
   },
   "outputs": [
    {
     "data": {
      "text/html": [
       "<div>\n",
       "<style scoped>\n",
       "    .dataframe tbody tr th:only-of-type {\n",
       "        vertical-align: middle;\n",
       "    }\n",
       "\n",
       "    .dataframe tbody tr th {\n",
       "        vertical-align: top;\n",
       "    }\n",
       "\n",
       "    .dataframe thead th {\n",
       "        text-align: right;\n",
       "    }\n",
       "</style>\n",
       "<table border=\"1\" class=\"dataframe\">\n",
       "  <thead>\n",
       "    <tr style=\"text-align: right;\">\n",
       "      <th></th>\n",
       "      <th>user_id</th>\n",
       "      <th>recipe_name</th>\n",
       "      <th>rating</th>\n",
       "    </tr>\n",
       "  </thead>\n",
       "  <tbody>\n",
       "    <tr>\n",
       "      <th>425574</th>\n",
       "      <td>33986</td>\n",
       "      <td>860</td>\n",
       "      <td>6</td>\n",
       "    </tr>\n",
       "    <tr>\n",
       "      <th>557003</th>\n",
       "      <td>44477</td>\n",
       "      <td>619</td>\n",
       "      <td>5</td>\n",
       "    </tr>\n",
       "    <tr>\n",
       "      <th>2242551</th>\n",
       "      <td>175129</td>\n",
       "      <td>1315</td>\n",
       "      <td>5</td>\n",
       "    </tr>\n",
       "    <tr>\n",
       "      <th>1924005</th>\n",
       "      <td>151078</td>\n",
       "      <td>422</td>\n",
       "      <td>5</td>\n",
       "    </tr>\n",
       "    <tr>\n",
       "      <th>89253</th>\n",
       "      <td>7235</td>\n",
       "      <td>18</td>\n",
       "      <td>5</td>\n",
       "    </tr>\n",
       "    <tr>\n",
       "      <th>1316865</th>\n",
       "      <td>102516</td>\n",
       "      <td>17</td>\n",
       "      <td>5</td>\n",
       "    </tr>\n",
       "    <tr>\n",
       "      <th>2500599</th>\n",
       "      <td>197396</td>\n",
       "      <td>1739</td>\n",
       "      <td>5</td>\n",
       "    </tr>\n",
       "    <tr>\n",
       "      <th>1642023</th>\n",
       "      <td>127147</td>\n",
       "      <td>1665</td>\n",
       "      <td>5</td>\n",
       "    </tr>\n",
       "    <tr>\n",
       "      <th>1195273</th>\n",
       "      <td>92602</td>\n",
       "      <td>855</td>\n",
       "      <td>5</td>\n",
       "    </tr>\n",
       "    <tr>\n",
       "      <th>2492819</th>\n",
       "      <td>196728</td>\n",
       "      <td>1386</td>\n",
       "      <td>5</td>\n",
       "    </tr>\n",
       "  </tbody>\n",
       "</table>\n",
       "</div>"
      ],
      "text/plain": [
       "         user_id  recipe_name  rating\n",
       "425574     33986          860       6\n",
       "557003     44477          619       5\n",
       "2242551   175129         1315       5\n",
       "1924005   151078          422       5\n",
       "89253       7235           18       5\n",
       "1316865   102516           17       5\n",
       "2500599   197396         1739       5\n",
       "1642023   127147         1665       5\n",
       "1195273    92602          855       5\n",
       "2492819   196728         1386       5"
      ]
     },
     "execution_count": 4,
     "metadata": {},
     "output_type": "execute_result"
    }
   ],
   "source": [
    "df = pd.read_pickle(\"data/preprocessed/collaborative_df.pkl\")\n",
    "df.sample(10)"
   ]
  },
  {
   "cell_type": "code",
   "execution_count": 5,
   "metadata": {},
   "outputs": [
    {
     "data": {
      "image/png": "[encoded data removed]",
      "text/plain": [
       "<Figure size 432x288 with 1 Axes>"
      ]
     },
     "metadata": {
      "needs_background": "light"
     },
     "output_type": "display_data"
    }
   ],
   "source": [
    "df.rating.hist()\n",
    "plt.xlabel(\"rating\")\n",
    "plt.ylabel(\"nums\")\n",
    "plt.title(\"Histogram of user ratings\");"
   ]
  },
  {
   "cell_type": "code",
   "execution_count": 6,
   "metadata": {
    "scrolled": false
   },
   "outputs": [
    {
     "name": "stdout",
     "output_type": "stream",
     "text": [
      "Our dataset have 198816 unique users' favorite 2511218 recipes in total.\n",
      "Recipes are mapped within 1628 categories.\n",
      "User ratings are shown above, mean value is 5.091716051732665, maximum is 10.\n"
     ]
    }
   ],
   "source": [
    "print(f\"Our dataset have {df.user_id.max()} unique users' favorite {len(df)} recipes in total.\")\n",
    "print(f\"Recipes are mapped within {len(df.recipe_name.unique())} categories.\")\n",
    "print(f\"User ratings are shown above, mean value is {df.rating.mean()}, maximum is {df.rating.max()}.\")"
   ]
  },
  {
   "cell_type": "code",
   "execution_count": 7,
   "metadata": {},
   "outputs": [],
   "source": [
    "from surprise import dump\n",
    "from surprise.accuracy import rmse\n",
    "from collab_filter import load_trained_pred_algo"
   ]
  },
  {
   "cell_type": "markdown",
   "metadata": {},
   "source": [
    "# NMF algorithm "
   ]
  },
  {
   "cell_type": "markdown",
   "metadata": {},
   "source": [
    "*\\*baseline*"
   ]
  },
  {
   "cell_type": "code",
   "execution_count": 8,
   "metadata": {},
   "outputs": [],
   "source": [
    "df_nmf, predictions_nmf, algo_nmf = load_trained_pred_algo('models/dump_NMF')"
   ]
  },
  {
   "cell_type": "markdown",
   "metadata": {},
   "source": [
    "# SVD algorithm"
   ]
  },
  {
   "cell_type": "code",
   "execution_count": 9,
   "metadata": {},
   "outputs": [],
   "source": [
    "df_svd, predictions_svd, algo_svd = load_trained_pred_algo('models/dump_SVD')"
   ]
  },
  {
   "cell_type": "markdown",
   "metadata": {},
   "source": [
    "## Compare with NMF"
   ]
  },
  {
   "cell_type": "markdown",
   "metadata": {},
   "source": [
    "### RMSE"
   ]
  },
  {
   "cell_type": "code",
   "execution_count": 10,
   "metadata": {},
   "outputs": [
    {
     "name": "stdout",
     "output_type": "stream",
     "text": [
      "[SVD] RMSE: 0.3653\n",
      "[NMF] RMSE: 0.5845\n"
     ]
    }
   ],
   "source": [
    "print(\"[SVD]\", end=\" \"); rmse(predictions_svd);\n",
    "print(\"[NMF]\", end=\" \"); rmse(predictions_nmf);"
   ]
  },
  {
   "cell_type": "markdown",
   "metadata": {},
   "source": [
    "### Recall"
   ]
  },
  {
   "cell_type": "markdown",
   "metadata": {},
   "source": [
    "We define the **miss** as if the recipe error of $(true - estimation) > 0.05$.<br>\n",
    "Since the rating feature actually represents the binary favor (like or not like), rather than measurement of some recipes.<br>\n",
    "So the estimation is quite close, as you can see in the above figure, errors are mainly distributed in range $[0,\\ 1]$.<br>\n",
    "Therefore, we have to choose relatively small error to calculate **recall**, which means the number of the predicted most-like recipes over the number of true right recipes, i.e., $$\\frac{TP}{TP + FN}$$ where $TP=true\\ positive$ and $FN=false\\ negative$"
   ]
  },
  {
   "cell_type": "code",
   "execution_count": 17,
   "metadata": {},
   "outputs": [],
   "source": [
    "from collab_filter import cal_recall\n",
    "ERROR_THRESHOLD = 0.05"
   ]
  },
  {
   "cell_type": "code",
   "execution_count": 18,
   "metadata": {},
   "outputs": [
    {
     "name": "stdout",
     "output_type": "stream",
     "text": [
      "[SVD] Recalls: 0.9234\n"
     ]
    }
   ],
   "source": [
    "recall_svd = cal_recall(predictions_svd, ERROR_THRESHOLD)\n",
    "print(f\"[SVD] Recalls: {np.array(list(recall_svd.values())).mean():.4f}\")"
   ]
  },
  {
   "cell_type": "code",
   "execution_count": 19,
   "metadata": {},
   "outputs": [
    {
     "name": "stdout",
     "output_type": "stream",
     "text": [
      "[NMF] Recalls: 0.5406\n"
     ]
    }
   ],
   "source": [
    "recall_nmf = cal_recall(predictions_nmf, ERROR_THRESHOLD)\n",
    "print(f\"[NMF] Recalls: {np.array(list(recall_nmf.values())).mean():.4f}\")"
   ]
  },
  {
   "cell_type": "markdown",
   "metadata": {},
   "source": [
    "### Prediction"
   ]
  },
  {
   "cell_type": "code",
   "execution_count": 11,
   "metadata": {
    "scrolled": true
   },
   "outputs": [
    {
     "data": {
      "image/png": "[encoded data removed]",
      "text/plain": [
       "<Figure size 1152x288 with 2 Axes>"
      ]
     },
     "metadata": {
      "needs_background": "light"
     },
     "output_type": "display_data"
    }
   ],
   "source": [
    "f, (ax1, ax2) = plt.subplots(1, 2, figsize=(16, 4))\n",
    "df_svd.estimation.plot(ax=ax1, kind='hist', bins=70, title='Prediction of SVD', color=\"#FF8000\", alpha=0.5);\n",
    "df_nmf.estimation.plot(ax=ax2, kind='hist', bins=70, title='Prediction of NMF', color=\"#56B4E9\", alpha=0.5);"
   ]
  },
  {
   "cell_type": "markdown",
   "metadata": {},
   "source": [
    "## Error analysis of SVD"
   ]
  },
  {
   "cell_type": "code",
   "execution_count": 12,
   "metadata": {},
   "outputs": [
    {
     "data": {
      "text/html": [
       "<div>\n",
       "<style scoped>\n",
       "    .dataframe tbody tr th:only-of-type {\n",
       "        vertical-align: middle;\n",
       "    }\n",
       "\n",
       "    .dataframe tbody tr th {\n",
       "        vertical-align: top;\n",
       "    }\n",
       "\n",
       "    .dataframe thead th {\n",
       "        text-align: right;\n",
       "    }\n",
       "</style>\n",
       "<table border=\"1\" class=\"dataframe\">\n",
       "  <thead>\n",
       "    <tr style=\"text-align: right;\">\n",
       "      <th></th>\n",
       "      <th>user_id</th>\n",
       "      <th>item_id</th>\n",
       "      <th>rating</th>\n",
       "      <th>estimation</th>\n",
       "      <th>err</th>\n",
       "    </tr>\n",
       "  </thead>\n",
       "  <tbody>\n",
       "    <tr>\n",
       "      <th>685928</th>\n",
       "      <td>147617</td>\n",
       "      <td>42</td>\n",
       "      <td>5.0</td>\n",
       "      <td>5.063411</td>\n",
       "      <td>0.063411</td>\n",
       "    </tr>\n",
       "    <tr>\n",
       "      <th>117609</th>\n",
       "      <td>152198</td>\n",
       "      <td>327</td>\n",
       "      <td>5.0</td>\n",
       "      <td>5.086939</td>\n",
       "      <td>0.086939</td>\n",
       "    </tr>\n",
       "    <tr>\n",
       "      <th>384821</th>\n",
       "      <td>25929</td>\n",
       "      <td>1793</td>\n",
       "      <td>5.0</td>\n",
       "      <td>5.348602</td>\n",
       "      <td>0.348602</td>\n",
       "    </tr>\n",
       "    <tr>\n",
       "      <th>772942</th>\n",
       "      <td>149153</td>\n",
       "      <td>337</td>\n",
       "      <td>5.0</td>\n",
       "      <td>5.397983</td>\n",
       "      <td>0.397983</td>\n",
       "    </tr>\n",
       "    <tr>\n",
       "      <th>646286</th>\n",
       "      <td>5305</td>\n",
       "      <td>176</td>\n",
       "      <td>5.0</td>\n",
       "      <td>5.002520</td>\n",
       "      <td>0.002520</td>\n",
       "    </tr>\n",
       "    <tr>\n",
       "      <th>503089</th>\n",
       "      <td>99054</td>\n",
       "      <td>1714</td>\n",
       "      <td>5.0</td>\n",
       "      <td>5.151476</td>\n",
       "      <td>0.151476</td>\n",
       "    </tr>\n",
       "    <tr>\n",
       "      <th>580886</th>\n",
       "      <td>125842</td>\n",
       "      <td>348</td>\n",
       "      <td>5.0</td>\n",
       "      <td>5.019453</td>\n",
       "      <td>0.019453</td>\n",
       "    </tr>\n",
       "    <tr>\n",
       "      <th>25991</th>\n",
       "      <td>179450</td>\n",
       "      <td>1350</td>\n",
       "      <td>5.0</td>\n",
       "      <td>4.991168</td>\n",
       "      <td>0.008832</td>\n",
       "    </tr>\n",
       "    <tr>\n",
       "      <th>158472</th>\n",
       "      <td>185827</td>\n",
       "      <td>903</td>\n",
       "      <td>5.0</td>\n",
       "      <td>5.070087</td>\n",
       "      <td>0.070087</td>\n",
       "    </tr>\n",
       "    <tr>\n",
       "      <th>513333</th>\n",
       "      <td>120282</td>\n",
       "      <td>180</td>\n",
       "      <td>5.0</td>\n",
       "      <td>5.148126</td>\n",
       "      <td>0.148126</td>\n",
       "    </tr>\n",
       "  </tbody>\n",
       "</table>\n",
       "</div>"
      ],
      "text/plain": [
       "        user_id  item_id  rating  estimation       err\n",
       "685928   147617       42     5.0    5.063411  0.063411\n",
       "117609   152198      327     5.0    5.086939  0.086939\n",
       "384821    25929     1793     5.0    5.348602  0.348602\n",
       "772942   149153      337     5.0    5.397983  0.397983\n",
       "646286     5305      176     5.0    5.002520  0.002520\n",
       "503089    99054     1714     5.0    5.151476  0.151476\n",
       "580886   125842      348     5.0    5.019453  0.019453\n",
       "25991    179450     1350     5.0    4.991168  0.008832\n",
       "158472   185827      903     5.0    5.070087  0.070087\n",
       "513333   120282      180     5.0    5.148126  0.148126"
      ]
     },
     "execution_count": 12,
     "metadata": {},
     "output_type": "execute_result"
    }
   ],
   "source": [
    "df_svd['err'] = abs(df_svd.estimation - df_svd.rating)\n",
    "df_svd.sample(10)"
   ]
  },
  {
   "cell_type": "code",
   "execution_count": 13,
   "metadata": {},
   "outputs": [],
   "source": [
    "best_predictions = df_svd.sort_values(by='err')[:10]\n",
    "worst_predictions = df_svd.sort_values(by='err')[-10:]"
   ]
  },
  {
   "cell_type": "markdown",
   "metadata": {},
   "source": [
    "Prediction with the smallest error"
   ]
  },
  {
   "cell_type": "code",
   "execution_count": 14,
   "metadata": {},
   "outputs": [
    {
     "data": {
      "text/html": [
       "<div>\n",
       "<style scoped>\n",
       "    .dataframe tbody tr th:only-of-type {\n",
       "        vertical-align: middle;\n",
       "    }\n",
       "\n",
       "    .dataframe tbody tr th {\n",
       "        vertical-align: top;\n",
       "    }\n",
       "\n",
       "    .dataframe thead th {\n",
       "        text-align: right;\n",
       "    }\n",
       "</style>\n",
       "<table border=\"1\" class=\"dataframe\">\n",
       "  <thead>\n",
       "    <tr style=\"text-align: right;\">\n",
       "      <th></th>\n",
       "      <th>user_id</th>\n",
       "      <th>item_id</th>\n",
       "      <th>rating</th>\n",
       "      <th>estimation</th>\n",
       "      <th>err</th>\n",
       "    </tr>\n",
       "  </thead>\n",
       "  <tbody>\n",
       "    <tr>\n",
       "      <th>381030</th>\n",
       "      <td>103789</td>\n",
       "      <td>1752</td>\n",
       "      <td>5.0</td>\n",
       "      <td>5.000000</td>\n",
       "      <td>1.123499e-07</td>\n",
       "    </tr>\n",
       "    <tr>\n",
       "      <th>270930</th>\n",
       "      <td>21172</td>\n",
       "      <td>472</td>\n",
       "      <td>5.0</td>\n",
       "      <td>5.000000</td>\n",
       "      <td>1.219079e-07</td>\n",
       "    </tr>\n",
       "    <tr>\n",
       "      <th>270879</th>\n",
       "      <td>96108</td>\n",
       "      <td>160</td>\n",
       "      <td>5.0</td>\n",
       "      <td>5.000000</td>\n",
       "      <td>2.796971e-07</td>\n",
       "    </tr>\n",
       "    <tr>\n",
       "      <th>182842</th>\n",
       "      <td>63732</td>\n",
       "      <td>1527</td>\n",
       "      <td>5.0</td>\n",
       "      <td>5.000000</td>\n",
       "      <td>3.924164e-07</td>\n",
       "    </tr>\n",
       "    <tr>\n",
       "      <th>376789</th>\n",
       "      <td>47681</td>\n",
       "      <td>622</td>\n",
       "      <td>5.0</td>\n",
       "      <td>5.000000</td>\n",
       "      <td>4.454907e-07</td>\n",
       "    </tr>\n",
       "    <tr>\n",
       "      <th>285241</th>\n",
       "      <td>17556</td>\n",
       "      <td>333</td>\n",
       "      <td>5.0</td>\n",
       "      <td>5.000001</td>\n",
       "      <td>5.337511e-07</td>\n",
       "    </tr>\n",
       "    <tr>\n",
       "      <th>42650</th>\n",
       "      <td>35721</td>\n",
       "      <td>51</td>\n",
       "      <td>5.0</td>\n",
       "      <td>4.999999</td>\n",
       "      <td>6.629452e-07</td>\n",
       "    </tr>\n",
       "    <tr>\n",
       "      <th>488167</th>\n",
       "      <td>191697</td>\n",
       "      <td>584</td>\n",
       "      <td>5.0</td>\n",
       "      <td>5.000001</td>\n",
       "      <td>6.725527e-07</td>\n",
       "    </tr>\n",
       "    <tr>\n",
       "      <th>653525</th>\n",
       "      <td>180711</td>\n",
       "      <td>1724</td>\n",
       "      <td>5.0</td>\n",
       "      <td>4.999999</td>\n",
       "      <td>6.841365e-07</td>\n",
       "    </tr>\n",
       "    <tr>\n",
       "      <th>403244</th>\n",
       "      <td>10927</td>\n",
       "      <td>1736</td>\n",
       "      <td>5.0</td>\n",
       "      <td>5.000001</td>\n",
       "      <td>1.021761e-06</td>\n",
       "    </tr>\n",
       "  </tbody>\n",
       "</table>\n",
       "</div>"
      ],
      "text/plain": [
       "        user_id  item_id  rating  estimation           err\n",
       "381030   103789     1752     5.0    5.000000  1.123499e-07\n",
       "270930    21172      472     5.0    5.000000  1.219079e-07\n",
       "270879    96108      160     5.0    5.000000  2.796971e-07\n",
       "182842    63732     1527     5.0    5.000000  3.924164e-07\n",
       "376789    47681      622     5.0    5.000000  4.454907e-07\n",
       "285241    17556      333     5.0    5.000001  5.337511e-07\n",
       "42650     35721       51     5.0    4.999999  6.629452e-07\n",
       "488167   191697      584     5.0    5.000001  6.725527e-07\n",
       "653525   180711     1724     5.0    4.999999  6.841365e-07\n",
       "403244    10927     1736     5.0    5.000001  1.021761e-06"
      ]
     },
     "execution_count": 14,
     "metadata": {},
     "output_type": "execute_result"
    }
   ],
   "source": [
    "best_predictions"
   ]
  },
  {
   "cell_type": "markdown",
   "metadata": {},
   "source": [
    "Prediction with the biggest error"
   ]
  },
  {
   "cell_type": "code",
   "execution_count": 15,
   "metadata": {},
   "outputs": [
    {
     "data": {
      "text/html": [
       "<div>\n",
       "<style scoped>\n",
       "    .dataframe tbody tr th:only-of-type {\n",
       "        vertical-align: middle;\n",
       "    }\n",
       "\n",
       "    .dataframe tbody tr th {\n",
       "        vertical-align: top;\n",
       "    }\n",
       "\n",
       "    .dataframe thead th {\n",
       "        text-align: right;\n",
       "    }\n",
       "</style>\n",
       "<table border=\"1\" class=\"dataframe\">\n",
       "  <thead>\n",
       "    <tr style=\"text-align: right;\">\n",
       "      <th></th>\n",
       "      <th>user_id</th>\n",
       "      <th>item_id</th>\n",
       "      <th>rating</th>\n",
       "      <th>estimation</th>\n",
       "      <th>err</th>\n",
       "    </tr>\n",
       "  </thead>\n",
       "  <tbody>\n",
       "    <tr>\n",
       "      <th>435447</th>\n",
       "      <td>188183</td>\n",
       "      <td>440</td>\n",
       "      <td>10.0</td>\n",
       "      <td>5.009860</td>\n",
       "      <td>4.990140</td>\n",
       "    </tr>\n",
       "    <tr>\n",
       "      <th>715657</th>\n",
       "      <td>55594</td>\n",
       "      <td>502</td>\n",
       "      <td>10.0</td>\n",
       "      <td>5.005795</td>\n",
       "      <td>4.994205</td>\n",
       "    </tr>\n",
       "    <tr>\n",
       "      <th>744533</th>\n",
       "      <td>66025</td>\n",
       "      <td>136</td>\n",
       "      <td>10.0</td>\n",
       "      <td>5.005194</td>\n",
       "      <td>4.994806</td>\n",
       "    </tr>\n",
       "    <tr>\n",
       "      <th>608121</th>\n",
       "      <td>164151</td>\n",
       "      <td>502</td>\n",
       "      <td>10.0</td>\n",
       "      <td>5.002467</td>\n",
       "      <td>4.997533</td>\n",
       "    </tr>\n",
       "    <tr>\n",
       "      <th>325207</th>\n",
       "      <td>114305</td>\n",
       "      <td>502</td>\n",
       "      <td>10.0</td>\n",
       "      <td>5.001044</td>\n",
       "      <td>4.998956</td>\n",
       "    </tr>\n",
       "    <tr>\n",
       "      <th>343551</th>\n",
       "      <td>73164</td>\n",
       "      <td>2006</td>\n",
       "      <td>10.0</td>\n",
       "      <td>4.996667</td>\n",
       "      <td>5.003333</td>\n",
       "    </tr>\n",
       "    <tr>\n",
       "      <th>484218</th>\n",
       "      <td>111104</td>\n",
       "      <td>1587</td>\n",
       "      <td>10.0</td>\n",
       "      <td>4.996573</td>\n",
       "      <td>5.003427</td>\n",
       "    </tr>\n",
       "    <tr>\n",
       "      <th>14646</th>\n",
       "      <td>57484</td>\n",
       "      <td>2030</td>\n",
       "      <td>10.0</td>\n",
       "      <td>4.970776</td>\n",
       "      <td>5.029224</td>\n",
       "    </tr>\n",
       "    <tr>\n",
       "      <th>319127</th>\n",
       "      <td>195629</td>\n",
       "      <td>1775</td>\n",
       "      <td>10.0</td>\n",
       "      <td>4.962710</td>\n",
       "      <td>5.037290</td>\n",
       "    </tr>\n",
       "    <tr>\n",
       "      <th>807703</th>\n",
       "      <td>66215</td>\n",
       "      <td>1984</td>\n",
       "      <td>10.0</td>\n",
       "      <td>4.835887</td>\n",
       "      <td>5.164113</td>\n",
       "    </tr>\n",
       "  </tbody>\n",
       "</table>\n",
       "</div>"
      ],
      "text/plain": [
       "        user_id  item_id  rating  estimation       err\n",
       "435447   188183      440    10.0    5.009860  4.990140\n",
       "715657    55594      502    10.0    5.005795  4.994205\n",
       "744533    66025      136    10.0    5.005194  4.994806\n",
       "608121   164151      502    10.0    5.002467  4.997533\n",
       "325207   114305      502    10.0    5.001044  4.998956\n",
       "343551    73164     2006    10.0    4.996667  5.003333\n",
       "484218   111104     1587    10.0    4.996573  5.003427\n",
       "14646     57484     2030    10.0    4.970776  5.029224\n",
       "319127   195629     1775    10.0    4.962710  5.037290\n",
       "807703    66215     1984    10.0    4.835887  5.164113"
      ]
     },
     "execution_count": 15,
     "metadata": {},
     "output_type": "execute_result"
    }
   ],
   "source": [
    "worst_predictions"
   ]
  },
  {
   "cell_type": "code",
   "execution_count": 16,
   "metadata": {},
   "outputs": [
    {
     "data": {
      "image/png": "[encoded data removed]",
      "text/plain": [
       "<Figure size 432x288 with 1 Axes>"
      ]
     },
     "metadata": {
      "needs_background": "light"
     },
     "output_type": "display_data"
    }
   ],
   "source": [
    "df_svd['err'].hist(bins=50, alpha=0.5)\n",
    "plt.xlabel(\"error\")\n",
    "plt.title(\"Histogram of estimation error\");"
   ]
  },
  {
   "cell_type": "markdown",
   "metadata": {},
   "source": [
    "## Recommendations"
   ]
  },
  {
   "cell_type": "code",
   "execution_count": 20,
   "metadata": {
    "scrolled": true
   },
   "outputs": [],
   "source": [
    "import json\n",
    "from collab_filter import top_k\n",
    "from pathlib import Path"
   ]
  },
  {
   "cell_type": "code",
   "execution_count": 21,
   "metadata": {
    "scrolled": true
   },
   "outputs": [],
   "source": [
    "top_5 = top_k(predictions_svd, 5)\n",
    "dictionary = json.load(Path(\"data/preprocessed/dictionary.json\").open(encoding=\"utf-8\"))"
   ]
  },
  {
   "cell_type": "code",
   "execution_count": 22,
   "metadata": {},
   "outputs": [],
   "source": [
    "recipe_id_to_english = {ind: v for ind, (k, v) in enumerate(dictionary.items())}"
   ]
  },
  {
   "cell_type": "code",
   "execution_count": 23,
   "metadata": {},
   "outputs": [],
   "source": [
    "def display_recommend(data, dictionary, ind=None):\n",
    "    if ind is None:\n",
    "        ind = np.random.randint(0, high=len(data))\n",
    "    try:\n",
    "        print(f\"Recommendation for user [{ind}]\")\n",
    "        for recipe_id, rates in data[ind]:\n",
    "            print(f\"·{dictionary[recipe_id]}: {rates:.3f}\")\n",
    "    except KeyError:\n",
    "        print(f\"User {ind} doesn't exist.\")"
   ]
  },
  {
   "cell_type": "code",
   "execution_count": 24,
   "metadata": {},
   "outputs": [
    {
     "name": "stdout",
     "output_type": "stream",
     "text": [
      "Recommendation for user [91346]\n",
      "·Boiled Fish with Pickled Cabbage and Chili: 5.075\n",
      "·Sautéed Bitter Melon Peel in Black Bean Sauce: 5.066\n",
      "·Sautéed Hardshell Crab with Salted Egg Yolk: 5.044\n",
      "·Seafood Bowl with Assorted Ingredients: 5.038\n",
      "·Spaghetti Bolognaise: 5.023\n"
     ]
    }
   ],
   "source": [
    "display_recommend(top_5, recipe_id_to_english)"
   ]
  },
  {
   "cell_type": "markdown",
   "metadata": {},
   "source": [
    "## *Appendix: Grid search*"
   ]
  },
  {
   "cell_type": "code",
   "execution_count": 25,
   "metadata": {},
   "outputs": [],
   "source": [
    "from collab_filter import load_dataset\n",
    "from surprise import SVD\n",
    "from surprise.model_selection import GridSearchCV, KFold"
   ]
  },
  {
   "cell_type": "code",
   "execution_count": 26,
   "metadata": {},
   "outputs": [],
   "source": [
    "def train_grid_search():\n",
    "    data = load_dataset()\n",
    "    param_grid = {'n_epochs': [5, 10], 'lr_all': [0.002, 0.005], 'reg_all' : [0.4, 0.6]}\n",
    "    gs = GridSearchCV(SVD, param_grid, measures=['rmse', 'mae'], cv=3)\n",
    "    gs.fit(data)\n",
    "    table = [[] for _ in range(len(gs.cv_results['params']))]\n",
    "    for i in range(len(gs.cv_results['params'])):\n",
    "        for key in gs.cv_results.keys():\n",
    "            table[i].append(gs.cv_results[key][i])\n",
    "    headers = gs.cv_results.keys()\n",
    "    return pd.DataFrame(table, columns=headers, index=gs.cv_results[\"params\"])"
   ]
  },
  {
   "cell_type": "code",
   "execution_count": 27,
   "metadata": {},
   "outputs": [],
   "source": [
    "csv_path = Path(\"res/svd_grid_serach.csv\")\n",
    "if csv_path.exists():\n",
    "    df = pd.read_csv(str(csv_path), index_col=0)\n",
    "else:\n",
    "    df = train_grid_search()\n",
    "    df.to_csv(str(csv_path))"
   ]
  },
  {
   "cell_type": "code",
   "execution_count": 28,
   "metadata": {},
   "outputs": [
    {
     "data": {
      "text/html": [
       "<div>\n",
       "<style scoped>\n",
       "    .dataframe tbody tr th:only-of-type {\n",
       "        vertical-align: middle;\n",
       "    }\n",
       "\n",
       "    .dataframe tbody tr th {\n",
       "        vertical-align: top;\n",
       "    }\n",
       "\n",
       "    .dataframe thead th {\n",
       "        text-align: right;\n",
       "    }\n",
       "</style>\n",
       "<table border=\"1\" class=\"dataframe\">\n",
       "  <thead>\n",
       "    <tr style=\"text-align: right;\">\n",
       "      <th></th>\n",
       "      <th>split0_test_rmse</th>\n",
       "      <th>split1_test_rmse</th>\n",
       "      <th>split2_test_rmse</th>\n",
       "      <th>mean_test_rmse</th>\n",
       "      <th>std_test_rmse</th>\n",
       "      <th>rank_test_rmse</th>\n",
       "      <th>split0_test_mae</th>\n",
       "      <th>split1_test_mae</th>\n",
       "      <th>split2_test_mae</th>\n",
       "      <th>mean_test_mae</th>\n",
       "      <th>std_test_mae</th>\n",
       "      <th>rank_test_mae</th>\n",
       "      <th>mean_fit_time</th>\n",
       "      <th>std_fit_time</th>\n",
       "      <th>mean_test_time</th>\n",
       "      <th>std_test_time</th>\n",
       "    </tr>\n",
       "    <tr>\n",
       "      <th>params</th>\n",
       "      <th></th>\n",
       "      <th></th>\n",
       "      <th></th>\n",
       "      <th></th>\n",
       "      <th></th>\n",
       "      <th></th>\n",
       "      <th></th>\n",
       "      <th></th>\n",
       "      <th></th>\n",
       "      <th></th>\n",
       "      <th></th>\n",
       "      <th></th>\n",
       "      <th></th>\n",
       "      <th></th>\n",
       "      <th></th>\n",
       "      <th></th>\n",
       "    </tr>\n",
       "  </thead>\n",
       "  <tbody>\n",
       "    <tr>\n",
       "      <th>{'n_epochs': 5, 'lr_all': 0.002, 'reg_all': 0.4}</th>\n",
       "      <td>0.3644</td>\n",
       "      <td>0.3609</td>\n",
       "      <td>0.3628</td>\n",
       "      <td>0.3627</td>\n",
       "      <td>0.0014</td>\n",
       "      <td>6</td>\n",
       "      <td>0.1582</td>\n",
       "      <td>0.1577</td>\n",
       "      <td>0.1582</td>\n",
       "      <td>0.1580</td>\n",
       "      <td>0.0002</td>\n",
       "      <td>4</td>\n",
       "      <td>29.4713</td>\n",
       "      <td>0.0564</td>\n",
       "      <td>8.9317</td>\n",
       "      <td>0.0898</td>\n",
       "    </tr>\n",
       "    <tr>\n",
       "      <th>{'n_epochs': 5, 'lr_all': 0.002, 'reg_all': 0.6}</th>\n",
       "      <td>0.3650</td>\n",
       "      <td>0.3614</td>\n",
       "      <td>0.3634</td>\n",
       "      <td>0.3633</td>\n",
       "      <td>0.0014</td>\n",
       "      <td>8</td>\n",
       "      <td>0.1593</td>\n",
       "      <td>0.1588</td>\n",
       "      <td>0.1594</td>\n",
       "      <td>0.1592</td>\n",
       "      <td>0.0003</td>\n",
       "      <td>7</td>\n",
       "      <td>28.8231</td>\n",
       "      <td>0.1532</td>\n",
       "      <td>8.8813</td>\n",
       "      <td>0.0402</td>\n",
       "    </tr>\n",
       "    <tr>\n",
       "      <th>{'n_epochs': 5, 'lr_all': 0.005, 'reg_all': 0.4}</th>\n",
       "      <td>0.3638</td>\n",
       "      <td>0.3603</td>\n",
       "      <td>0.3620</td>\n",
       "      <td>0.3620</td>\n",
       "      <td>0.0014</td>\n",
       "      <td>2</td>\n",
       "      <td>0.1573</td>\n",
       "      <td>0.1568</td>\n",
       "      <td>0.1581</td>\n",
       "      <td>0.1574</td>\n",
       "      <td>0.0005</td>\n",
       "      <td>1</td>\n",
       "      <td>29.3047</td>\n",
       "      <td>0.7659</td>\n",
       "      <td>9.3364</td>\n",
       "      <td>0.7014</td>\n",
       "    </tr>\n",
       "    <tr>\n",
       "      <th>{'n_epochs': 5, 'lr_all': 0.005, 'reg_all': 0.6}</th>\n",
       "      <td>0.3645</td>\n",
       "      <td>0.3609</td>\n",
       "      <td>0.3626</td>\n",
       "      <td>0.3627</td>\n",
       "      <td>0.0015</td>\n",
       "      <td>5</td>\n",
       "      <td>0.1587</td>\n",
       "      <td>0.1582</td>\n",
       "      <td>0.1595</td>\n",
       "      <td>0.1588</td>\n",
       "      <td>0.0005</td>\n",
       "      <td>6</td>\n",
       "      <td>29.8173</td>\n",
       "      <td>0.9193</td>\n",
       "      <td>9.6570</td>\n",
       "      <td>1.1730</td>\n",
       "    </tr>\n",
       "    <tr>\n",
       "      <th>{'n_epochs': 10, 'lr_all': 0.002, 'reg_all': 0.4}</th>\n",
       "      <td>0.3637</td>\n",
       "      <td>0.3601</td>\n",
       "      <td>0.3621</td>\n",
       "      <td>0.3620</td>\n",
       "      <td>0.0014</td>\n",
       "      <td>1</td>\n",
       "      <td>0.1581</td>\n",
       "      <td>0.1575</td>\n",
       "      <td>0.1580</td>\n",
       "      <td>0.1579</td>\n",
       "      <td>0.0002</td>\n",
       "      <td>3</td>\n",
       "      <td>56.7222</td>\n",
       "      <td>0.0553</td>\n",
       "      <td>9.3279</td>\n",
       "      <td>0.6558</td>\n",
       "    </tr>\n",
       "    <tr>\n",
       "      <th>{'n_epochs': 10, 'lr_all': 0.002, 'reg_all': 0.6}</th>\n",
       "      <td>0.3644</td>\n",
       "      <td>0.3608</td>\n",
       "      <td>0.3628</td>\n",
       "      <td>0.3626</td>\n",
       "      <td>0.0014</td>\n",
       "      <td>4</td>\n",
       "      <td>0.1594</td>\n",
       "      <td>0.1588</td>\n",
       "      <td>0.1594</td>\n",
       "      <td>0.1592</td>\n",
       "      <td>0.0003</td>\n",
       "      <td>8</td>\n",
       "      <td>56.8888</td>\n",
       "      <td>0.2027</td>\n",
       "      <td>8.9146</td>\n",
       "      <td>0.0008</td>\n",
       "    </tr>\n",
       "    <tr>\n",
       "      <th>{'n_epochs': 10, 'lr_all': 0.005, 'reg_all': 0.4}</th>\n",
       "      <td>0.3641</td>\n",
       "      <td>0.3605</td>\n",
       "      <td>0.3623</td>\n",
       "      <td>0.3623</td>\n",
       "      <td>0.0015</td>\n",
       "      <td>3</td>\n",
       "      <td>0.1574</td>\n",
       "      <td>0.1570</td>\n",
       "      <td>0.1582</td>\n",
       "      <td>0.1575</td>\n",
       "      <td>0.0005</td>\n",
       "      <td>2</td>\n",
       "      <td>56.7971</td>\n",
       "      <td>0.1359</td>\n",
       "      <td>8.8146</td>\n",
       "      <td>0.0142</td>\n",
       "    </tr>\n",
       "    <tr>\n",
       "      <th>{'n_epochs': 10, 'lr_all': 0.005, 'reg_all': 0.6}</th>\n",
       "      <td>0.3647</td>\n",
       "      <td>0.3611</td>\n",
       "      <td>0.3629</td>\n",
       "      <td>0.3629</td>\n",
       "      <td>0.0015</td>\n",
       "      <td>7</td>\n",
       "      <td>0.1585</td>\n",
       "      <td>0.1581</td>\n",
       "      <td>0.1593</td>\n",
       "      <td>0.1586</td>\n",
       "      <td>0.0005</td>\n",
       "      <td>5</td>\n",
       "      <td>56.8352</td>\n",
       "      <td>0.1780</td>\n",
       "      <td>9.3248</td>\n",
       "      <td>0.6603</td>\n",
       "    </tr>\n",
       "  </tbody>\n",
       "</table>\n",
       "</div>"
      ],
      "text/plain": [
       "                                                   split0_test_rmse  \\\n",
       "params                                                                \n",
       "{'n_epochs': 5, 'lr_all': 0.002, 'reg_all': 0.4}             0.3644   \n",
       "{'n_epochs': 5, 'lr_all': 0.002, 'reg_all': 0.6}             0.3650   \n",
       "{'n_epochs': 5, 'lr_all': 0.005, 'reg_all': 0.4}             0.3638   \n",
       "{'n_epochs': 5, 'lr_all': 0.005, 'reg_all': 0.6}             0.3645   \n",
       "{'n_epochs': 10, 'lr_all': 0.002, 'reg_all': 0.4}            0.3637   \n",
       "{'n_epochs': 10, 'lr_all': 0.002, 'reg_all': 0.6}            0.3644   \n",
       "{'n_epochs': 10, 'lr_all': 0.005, 'reg_all': 0.4}            0.3641   \n",
       "{'n_epochs': 10, 'lr_all': 0.005, 'reg_all': 0.6}            0.3647   \n",
       "\n",
       "                                                   split1_test_rmse  \\\n",
       "params                                                                \n",
       "{'n_epochs': 5, 'lr_all': 0.002, 'reg_all': 0.4}             0.3609   \n",
       "{'n_epochs': 5, 'lr_all': 0.002, 'reg_all': 0.6}             0.3614   \n",
       "{'n_epochs': 5, 'lr_all': 0.005, 'reg_all': 0.4}             0.3603   \n",
       "{'n_epochs': 5, 'lr_all': 0.005, 'reg_all': 0.6}             0.3609   \n",
       "{'n_epochs': 10, 'lr_all': 0.002, 'reg_all': 0.4}            0.3601   \n",
       "{'n_epochs': 10, 'lr_all': 0.002, 'reg_all': 0.6}            0.3608   \n",
       "{'n_epochs': 10, 'lr_all': 0.005, 'reg_all': 0.4}            0.3605   \n",
       "{'n_epochs': 10, 'lr_all': 0.005, 'reg_all': 0.6}            0.3611   \n",
       "\n",
       "                                                   split2_test_rmse  \\\n",
       "params                                                                \n",
       "{'n_epochs': 5, 'lr_all': 0.002, 'reg_all': 0.4}             0.3628   \n",
       "{'n_epochs': 5, 'lr_all': 0.002, 'reg_all': 0.6}             0.3634   \n",
       "{'n_epochs': 5, 'lr_all': 0.005, 'reg_all': 0.4}             0.3620   \n",
       "{'n_epochs': 5, 'lr_all': 0.005, 'reg_all': 0.6}             0.3626   \n",
       "{'n_epochs': 10, 'lr_all': 0.002, 'reg_all': 0.4}            0.3621   \n",
       "{'n_epochs': 10, 'lr_all': 0.002, 'reg_all': 0.6}            0.3628   \n",
       "{'n_epochs': 10, 'lr_all': 0.005, 'reg_all': 0.4}            0.3623   \n",
       "{'n_epochs': 10, 'lr_all': 0.005, 'reg_all': 0.6}            0.3629   \n",
       "\n",
       "                                                   mean_test_rmse  \\\n",
       "params                                                              \n",
       "{'n_epochs': 5, 'lr_all': 0.002, 'reg_all': 0.4}           0.3627   \n",
       "{'n_epochs': 5, 'lr_all': 0.002, 'reg_all': 0.6}           0.3633   \n",
       "{'n_epochs': 5, 'lr_all': 0.005, 'reg_all': 0.4}           0.3620   \n",
       "{'n_epochs': 5, 'lr_all': 0.005, 'reg_all': 0.6}           0.3627   \n",
       "{'n_epochs': 10, 'lr_all': 0.002, 'reg_all': 0.4}          0.3620   \n",
       "{'n_epochs': 10, 'lr_all': 0.002, 'reg_all': 0.6}          0.3626   \n",
       "{'n_epochs': 10, 'lr_all': 0.005, 'reg_all': 0.4}          0.3623   \n",
       "{'n_epochs': 10, 'lr_all': 0.005, 'reg_all': 0.6}          0.3629   \n",
       "\n",
       "                                                   std_test_rmse  \\\n",
       "params                                                             \n",
       "{'n_epochs': 5, 'lr_all': 0.002, 'reg_all': 0.4}          0.0014   \n",
       "{'n_epochs': 5, 'lr_all': 0.002, 'reg_all': 0.6}          0.0014   \n",
       "{'n_epochs': 5, 'lr_all': 0.005, 'reg_all': 0.4}          0.0014   \n",
       "{'n_epochs': 5, 'lr_all': 0.005, 'reg_all': 0.6}          0.0015   \n",
       "{'n_epochs': 10, 'lr_all': 0.002, 'reg_all': 0.4}         0.0014   \n",
       "{'n_epochs': 10, 'lr_all': 0.002, 'reg_all': 0.6}         0.0014   \n",
       "{'n_epochs': 10, 'lr_all': 0.005, 'reg_all': 0.4}         0.0015   \n",
       "{'n_epochs': 10, 'lr_all': 0.005, 'reg_all': 0.6}         0.0015   \n",
       "\n",
       "                                                   rank_test_rmse  \\\n",
       "params                                                              \n",
       "{'n_epochs': 5, 'lr_all': 0.002, 'reg_all': 0.4}                6   \n",
       "{'n_epochs': 5, 'lr_all': 0.002, 'reg_all': 0.6}                8   \n",
       "{'n_epochs': 5, 'lr_all': 0.005, 'reg_all': 0.4}                2   \n",
       "{'n_epochs': 5, 'lr_all': 0.005, 'reg_all': 0.6}                5   \n",
       "{'n_epochs': 10, 'lr_all': 0.002, 'reg_all': 0.4}               1   \n",
       "{'n_epochs': 10, 'lr_all': 0.002, 'reg_all': 0.6}               4   \n",
       "{'n_epochs': 10, 'lr_all': 0.005, 'reg_all': 0.4}               3   \n",
       "{'n_epochs': 10, 'lr_all': 0.005, 'reg_all': 0.6}               7   \n",
       "\n",
       "                                                   split0_test_mae  \\\n",
       "params                                                               \n",
       "{'n_epochs': 5, 'lr_all': 0.002, 'reg_all': 0.4}            0.1582   \n",
       "{'n_epochs': 5, 'lr_all': 0.002, 'reg_all': 0.6}            0.1593   \n",
       "{'n_epochs': 5, 'lr_all': 0.005, 'reg_all': 0.4}            0.1573   \n",
       "{'n_epochs': 5, 'lr_all': 0.005, 'reg_all': 0.6}            0.1587   \n",
       "{'n_epochs': 10, 'lr_all': 0.002, 'reg_all': 0.4}           0.1581   \n",
       "{'n_epochs': 10, 'lr_all': 0.002, 'reg_all': 0.6}           0.1594   \n",
       "{'n_epochs': 10, 'lr_all': 0.005, 'reg_all': 0.4}           0.1574   \n",
       "{'n_epochs': 10, 'lr_all': 0.005, 'reg_all': 0.6}           0.1585   \n",
       "\n",
       "                                                   split1_test_mae  \\\n",
       "params                                                               \n",
       "{'n_epochs': 5, 'lr_all': 0.002, 'reg_all': 0.4}            0.1577   \n",
       "{'n_epochs': 5, 'lr_all': 0.002, 'reg_all': 0.6}            0.1588   \n",
       "{'n_epochs': 5, 'lr_all': 0.005, 'reg_all': 0.4}            0.1568   \n",
       "{'n_epochs': 5, 'lr_all': 0.005, 'reg_all': 0.6}            0.1582   \n",
       "{'n_epochs': 10, 'lr_all': 0.002, 'reg_all': 0.4}           0.1575   \n",
       "{'n_epochs': 10, 'lr_all': 0.002, 'reg_all': 0.6}           0.1588   \n",
       "{'n_epochs': 10, 'lr_all': 0.005, 'reg_all': 0.4}           0.1570   \n",
       "{'n_epochs': 10, 'lr_all': 0.005, 'reg_all': 0.6}           0.1581   \n",
       "\n",
       "                                                   split2_test_mae  \\\n",
       "params                                                               \n",
       "{'n_epochs': 5, 'lr_all': 0.002, 'reg_all': 0.4}            0.1582   \n",
       "{'n_epochs': 5, 'lr_all': 0.002, 'reg_all': 0.6}            0.1594   \n",
       "{'n_epochs': 5, 'lr_all': 0.005, 'reg_all': 0.4}            0.1581   \n",
       "{'n_epochs': 5, 'lr_all': 0.005, 'reg_all': 0.6}            0.1595   \n",
       "{'n_epochs': 10, 'lr_all': 0.002, 'reg_all': 0.4}           0.1580   \n",
       "{'n_epochs': 10, 'lr_all': 0.002, 'reg_all': 0.6}           0.1594   \n",
       "{'n_epochs': 10, 'lr_all': 0.005, 'reg_all': 0.4}           0.1582   \n",
       "{'n_epochs': 10, 'lr_all': 0.005, 'reg_all': 0.6}           0.1593   \n",
       "\n",
       "                                                   mean_test_mae  \\\n",
       "params                                                             \n",
       "{'n_epochs': 5, 'lr_all': 0.002, 'reg_all': 0.4}          0.1580   \n",
       "{'n_epochs': 5, 'lr_all': 0.002, 'reg_all': 0.6}          0.1592   \n",
       "{'n_epochs': 5, 'lr_all': 0.005, 'reg_all': 0.4}          0.1574   \n",
       "{'n_epochs': 5, 'lr_all': 0.005, 'reg_all': 0.6}          0.1588   \n",
       "{'n_epochs': 10, 'lr_all': 0.002, 'reg_all': 0.4}         0.1579   \n",
       "{'n_epochs': 10, 'lr_all': 0.002, 'reg_all': 0.6}         0.1592   \n",
       "{'n_epochs': 10, 'lr_all': 0.005, 'reg_all': 0.4}         0.1575   \n",
       "{'n_epochs': 10, 'lr_all': 0.005, 'reg_all': 0.6}         0.1586   \n",
       "\n",
       "                                                   std_test_mae  \\\n",
       "params                                                            \n",
       "{'n_epochs': 5, 'lr_all': 0.002, 'reg_all': 0.4}         0.0002   \n",
       "{'n_epochs': 5, 'lr_all': 0.002, 'reg_all': 0.6}         0.0003   \n",
       "{'n_epochs': 5, 'lr_all': 0.005, 'reg_all': 0.4}         0.0005   \n",
       "{'n_epochs': 5, 'lr_all': 0.005, 'reg_all': 0.6}         0.0005   \n",
       "{'n_epochs': 10, 'lr_all': 0.002, 'reg_all': 0.4}        0.0002   \n",
       "{'n_epochs': 10, 'lr_all': 0.002, 'reg_all': 0.6}        0.0003   \n",
       "{'n_epochs': 10, 'lr_all': 0.005, 'reg_all': 0.4}        0.0005   \n",
       "{'n_epochs': 10, 'lr_all': 0.005, 'reg_all': 0.6}        0.0005   \n",
       "\n",
       "                                                   rank_test_mae  \\\n",
       "params                                                             \n",
       "{'n_epochs': 5, 'lr_all': 0.002, 'reg_all': 0.4}               4   \n",
       "{'n_epochs': 5, 'lr_all': 0.002, 'reg_all': 0.6}               7   \n",
       "{'n_epochs': 5, 'lr_all': 0.005, 'reg_all': 0.4}               1   \n",
       "{'n_epochs': 5, 'lr_all': 0.005, 'reg_all': 0.6}               6   \n",
       "{'n_epochs': 10, 'lr_all': 0.002, 'reg_all': 0.4}              3   \n",
       "{'n_epochs': 10, 'lr_all': 0.002, 'reg_all': 0.6}              8   \n",
       "{'n_epochs': 10, 'lr_all': 0.005, 'reg_all': 0.4}              2   \n",
       "{'n_epochs': 10, 'lr_all': 0.005, 'reg_all': 0.6}              5   \n",
       "\n",
       "                                                   mean_fit_time  \\\n",
       "params                                                             \n",
       "{'n_epochs': 5, 'lr_all': 0.002, 'reg_all': 0.4}         29.4713   \n",
       "{'n_epochs': 5, 'lr_all': 0.002, 'reg_all': 0.6}         28.8231   \n",
       "{'n_epochs': 5, 'lr_all': 0.005, 'reg_all': 0.4}         29.3047   \n",
       "{'n_epochs': 5, 'lr_all': 0.005, 'reg_all': 0.6}         29.8173   \n",
       "{'n_epochs': 10, 'lr_all': 0.002, 'reg_all': 0.4}        56.7222   \n",
       "{'n_epochs': 10, 'lr_all': 0.002, 'reg_all': 0.6}        56.8888   \n",
       "{'n_epochs': 10, 'lr_all': 0.005, 'reg_all': 0.4}        56.7971   \n",
       "{'n_epochs': 10, 'lr_all': 0.005, 'reg_all': 0.6}        56.8352   \n",
       "\n",
       "                                                   std_fit_time  \\\n",
       "params                                                            \n",
       "{'n_epochs': 5, 'lr_all': 0.002, 'reg_all': 0.4}         0.0564   \n",
       "{'n_epochs': 5, 'lr_all': 0.002, 'reg_all': 0.6}         0.1532   \n",
       "{'n_epochs': 5, 'lr_all': 0.005, 'reg_all': 0.4}         0.7659   \n",
       "{'n_epochs': 5, 'lr_all': 0.005, 'reg_all': 0.6}         0.9193   \n",
       "{'n_epochs': 10, 'lr_all': 0.002, 'reg_all': 0.4}        0.0553   \n",
       "{'n_epochs': 10, 'lr_all': 0.002, 'reg_all': 0.6}        0.2027   \n",
       "{'n_epochs': 10, 'lr_all': 0.005, 'reg_all': 0.4}        0.1359   \n",
       "{'n_epochs': 10, 'lr_all': 0.005, 'reg_all': 0.6}        0.1780   \n",
       "\n",
       "                                                   mean_test_time  \\\n",
       "params                                                              \n",
       "{'n_epochs': 5, 'lr_all': 0.002, 'reg_all': 0.4}           8.9317   \n",
       "{'n_epochs': 5, 'lr_all': 0.002, 'reg_all': 0.6}           8.8813   \n",
       "{'n_epochs': 5, 'lr_all': 0.005, 'reg_all': 0.4}           9.3364   \n",
       "{'n_epochs': 5, 'lr_all': 0.005, 'reg_all': 0.6}           9.6570   \n",
       "{'n_epochs': 10, 'lr_all': 0.002, 'reg_all': 0.4}          9.3279   \n",
       "{'n_epochs': 10, 'lr_all': 0.002, 'reg_all': 0.6}          8.9146   \n",
       "{'n_epochs': 10, 'lr_all': 0.005, 'reg_all': 0.4}          8.8146   \n",
       "{'n_epochs': 10, 'lr_all': 0.005, 'reg_all': 0.6}          9.3248   \n",
       "\n",
       "                                                   std_test_time  \n",
       "params                                                            \n",
       "{'n_epochs': 5, 'lr_all': 0.002, 'reg_all': 0.4}          0.0898  \n",
       "{'n_epochs': 5, 'lr_all': 0.002, 'reg_all': 0.6}          0.0402  \n",
       "{'n_epochs': 5, 'lr_all': 0.005, 'reg_all': 0.4}          0.7014  \n",
       "{'n_epochs': 5, 'lr_all': 0.005, 'reg_all': 0.6}          1.1730  \n",
       "{'n_epochs': 10, 'lr_all': 0.002, 'reg_all': 0.4}         0.6558  \n",
       "{'n_epochs': 10, 'lr_all': 0.002, 'reg_all': 0.6}         0.0008  \n",
       "{'n_epochs': 10, 'lr_all': 0.005, 'reg_all': 0.4}         0.0142  \n",
       "{'n_epochs': 10, 'lr_all': 0.005, 'reg_all': 0.6}         0.6603  "
      ]
     },
     "execution_count": 28,
     "metadata": {},
     "output_type": "execute_result"
    }
   ],
   "source": [
    "# Remove repeated columns for better \n",
    "pd.options.display.float_format = '{:.4f}'.format\n",
    "df.index.rename('params', inplace=True)\n",
    "df.drop([h for h in df.head() if h .startswith(\"param\")], axis=1)"
   ]
  }
 ],
 "metadata": {
  "kernelspec": {
   "display_name": "Py3",
   "language": "python",
   "name": "py3"
  },
  "language_info": {
   "codemirror_mode": {
    "name": "ipython",
    "version": 3
   },
   "file_extension": ".py",
   "mimetype": "text/x-python",
   "name": "python",
   "nbconvert_exporter": "python",
   "pygments_lexer": "ipython3",
   "version": "3.6.6"
  }
 },
 "nbformat": 4,
 "nbformat_minor": 2
}
