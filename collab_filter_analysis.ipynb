{
 "cells": [
  {
   "cell_type": "code",
   "execution_count": 1,
   "metadata": {},
   "outputs": [],
   "source": [
    "import pandas as pd\n",
    "import numpy as np"
   ]
  },
  {
   "cell_type": "code",
   "execution_count": 2,
   "metadata": {},
   "outputs": [],
   "source": [
    "%load_ext autoreload\n",
    "%autoreload 2"
   ]
  },
  {
   "cell_type": "code",
   "execution_count": 3,
   "metadata": {},
   "outputs": [],
   "source": [
    "import matplotlib.pyplot as plt\n",
    "import matplotlib\n",
    "%matplotlib inline\n",
    "\n",
    "matplotlib.style.use('ggplot')"
   ]
  },
  {
   "cell_type": "markdown",
   "metadata": {},
   "source": [
    "# Dataset overview"
   ]
  },
  {
   "cell_type": "code",
   "execution_count": 4,
   "metadata": {
    "scrolled": true
   },
   "outputs": [
    {
     "data": {
      "text/html": [
       "<div>\n",
       "<style scoped>\n",
       "    .dataframe tbody tr th:only-of-type {\n",
       "        vertical-align: middle;\n",
       "    }\n",
       "\n",
       "    .dataframe tbody tr th {\n",
       "        vertical-align: top;\n",
       "    }\n",
       "\n",
       "    .dataframe thead th {\n",
       "        text-align: right;\n",
       "    }\n",
       "</style>\n",
       "<table border=\"1\" class=\"dataframe\">\n",
       "  <thead>\n",
       "    <tr style=\"text-align: right;\">\n",
       "      <th></th>\n",
       "      <th>user_id</th>\n",
       "      <th>recipe_name</th>\n",
       "      <th>rating</th>\n",
       "    </tr>\n",
       "  </thead>\n",
       "  <tbody>\n",
       "    <tr>\n",
       "      <th>859144</th>\n",
       "      <td>67250</td>\n",
       "      <td>1334</td>\n",
       "      <td>5</td>\n",
       "    </tr>\n",
       "    <tr>\n",
       "      <th>989104</th>\n",
       "      <td>76808</td>\n",
       "      <td>841</td>\n",
       "      <td>5</td>\n",
       "    </tr>\n",
       "    <tr>\n",
       "      <th>447292</th>\n",
       "      <td>35667</td>\n",
       "      <td>1283</td>\n",
       "      <td>5</td>\n",
       "    </tr>\n",
       "    <tr>\n",
       "      <th>1306193</th>\n",
       "      <td>101667</td>\n",
       "      <td>2015</td>\n",
       "      <td>5</td>\n",
       "    </tr>\n",
       "    <tr>\n",
       "      <th>808174</th>\n",
       "      <td>63228</td>\n",
       "      <td>78</td>\n",
       "      <td>5</td>\n",
       "    </tr>\n",
       "    <tr>\n",
       "      <th>703892</th>\n",
       "      <td>55214</td>\n",
       "      <td>1669</td>\n",
       "      <td>5</td>\n",
       "    </tr>\n",
       "    <tr>\n",
       "      <th>239412</th>\n",
       "      <td>19213</td>\n",
       "      <td>1182</td>\n",
       "      <td>5</td>\n",
       "    </tr>\n",
       "    <tr>\n",
       "      <th>532970</th>\n",
       "      <td>42601</td>\n",
       "      <td>1473</td>\n",
       "      <td>5</td>\n",
       "    </tr>\n",
       "    <tr>\n",
       "      <th>535285</th>\n",
       "      <td>42774</td>\n",
       "      <td>1793</td>\n",
       "      <td>5</td>\n",
       "    </tr>\n",
       "    <tr>\n",
       "      <th>2432462</th>\n",
       "      <td>191654</td>\n",
       "      <td>358</td>\n",
       "      <td>5</td>\n",
       "    </tr>\n",
       "  </tbody>\n",
       "</table>\n",
       "</div>"
      ],
      "text/plain": [
       "         user_id  recipe_name  rating\n",
       "859144     67250         1334       5\n",
       "989104     76808          841       5\n",
       "447292     35667         1283       5\n",
       "1306193   101667         2015       5\n",
       "808174     63228           78       5\n",
       "703892     55214         1669       5\n",
       "239412     19213         1182       5\n",
       "532970     42601         1473       5\n",
       "535285     42774         1793       5\n",
       "2432462   191654          358       5"
      ]
     },
     "execution_count": 4,
     "metadata": {},
     "output_type": "execute_result"
    }
   ],
   "source": [
    "df = pd.read_pickle(\"data/preprocessed/collaborative_df.pkl\")\n",
    "df.sample(10)"
   ]
  },
  {
   "cell_type": "code",
   "execution_count": 5,
   "metadata": {},
   "outputs": [
    {
     "data": {
      "image/png": "[encoded data removed]",
      "text/plain": [
       "<Figure size 432x288 with 1 Axes>"
      ]
     },
     "metadata": {
      "needs_background": "light"
     },
     "output_type": "display_data"
    }
   ],
   "source": [
    "df.rating.hist()\n",
    "plt.xlabel(\"rating\")\n",
    "plt.ylabel(\"nums\")\n",
    "plt.title(\"Histogram of user ratings\");"
   ]
  },
  {
   "cell_type": "code",
   "execution_count": 6,
   "metadata": {
    "scrolled": false
   },
   "outputs": [
    {
     "name": "stdout",
     "output_type": "stream",
     "text": [
      "Our dataset have 198816 unique users' favorite 2511218 recipes in total.\n",
      "Recipes are mapped within 1628 categories.\n",
      "User ratings are shown above, mean value is 5.091716051732665, maximum is 10.\n"
     ]
    }
   ],
   "source": [
    "print(f\"Our dataset have {df.user_id.max()} unique users' favorite {len(df)} recipes in total.\")\n",
    "print(f\"Recipes are mapped within {len(df.recipe_name.unique())} categories.\")\n",
    "print(f\"User ratings are shown above, mean value is {df.rating.mean()}, maximum is {df.rating.max()}.\")"
   ]
  },
  {
   "cell_type": "code",
   "execution_count": 7,
   "metadata": {},
   "outputs": [],
   "source": [
    "from surprise import dump\n",
    "from surprise.accuracy import rmse\n",
    "from collab_filter import load_trained_pred_algo"
   ]
  },
  {
   "cell_type": "markdown",
   "metadata": {},
   "source": [
    "# NMF algorithm "
   ]
  },
  {
   "cell_type": "markdown",
   "metadata": {},
   "source": [
    "*\\*baseline*"
   ]
  },
  {
   "cell_type": "code",
   "execution_count": 8,
   "metadata": {},
   "outputs": [],
   "source": [
    "df_nmf_dev, predictions_nmf_dev, algo_nmf = load_trained_pred_algo('models/dump_NMF_dev')\n",
    "df_nmf_test, predictions_nmf_test, _ = load_trained_pred_algo('models/dump_NMF_test')"
   ]
  },
  {
   "cell_type": "markdown",
   "metadata": {},
   "source": [
    "# SVD algorithm"
   ]
  },
  {
   "cell_type": "code",
   "execution_count": 9,
   "metadata": {},
   "outputs": [],
   "source": [
    "df_svd_dev, predictions_svd_dev, algo_svd = load_trained_pred_algo('models/dump_SVD_dev')\n",
    "df_svd_test, predictions_svd_test, _ = load_trained_pred_algo('models/dump_SVD_test')"
   ]
  },
  {
   "cell_type": "markdown",
   "metadata": {},
   "source": [
    "## Compare with NMF"
   ]
  },
  {
   "cell_type": "markdown",
   "metadata": {},
   "source": [
    "### RMSE"
   ]
  },
  {
   "cell_type": "code",
   "execution_count": 10,
   "metadata": {},
   "outputs": [
    {
     "name": "stdout",
     "output_type": "stream",
     "text": [
      "Dev\n",
      "====================\n",
      "SVD | RMSE: 0.3317\n",
      "NMF | RMSE: 0.4574\n"
     ]
    }
   ],
   "source": [
    "print(f\"Dev\\n{'='*20}\")\n",
    "print(\"SVD |\", end=\" \"); rmse(predictions_svd_dev);\n",
    "print(\"NMF |\", end=\" \"); rmse(predictions_nmf_dev);"
   ]
  },
  {
   "cell_type": "code",
   "execution_count": 11,
   "metadata": {},
   "outputs": [
    {
     "name": "stdout",
     "output_type": "stream",
     "text": [
      "Test\n",
      "====================\n",
      "SVD | RMSE: 0.3634\n",
      "NMF | RMSE: 0.5851\n"
     ]
    }
   ],
   "source": [
    "print(f\"Test\\n{'='*20}\")\n",
    "print(\"SVD |\", end=\" \"); rmse(predictions_svd_test);\n",
    "print(\"NMF |\", end=\" \"); rmse(predictions_nmf_test);"
   ]
  },
  {
   "cell_type": "markdown",
   "metadata": {},
   "source": [
    "### Recall"
   ]
  },
  {
   "cell_type": "markdown",
   "metadata": {},
   "source": [
    "We define the **miss** as if the recipe error of $(true - estimation) > 0.05$.<br>\n",
    "Since the rating feature actually represents the binary favor (like or not like), rather than measurement of some recipes.<br>\n",
    "So the estimation is quite close, as you can see in the above figure, errors are mainly distributed in range $[0,\\ 1]$.<br>\n",
    "Therefore, we have to choose relatively small error to calculate **recall**, which means the number of the predicted most-like recipes over the number of true right recipes, i.e., $$\\frac{TP}{TP + FN}$$ where $TP=true\\ positive$ and $FN=false\\ negative$"
   ]
  },
  {
   "cell_type": "code",
   "execution_count": 12,
   "metadata": {},
   "outputs": [],
   "source": [
    "from collab_filter import cal_recall\n",
    "ERROR_THRESHOLD = 0.05"
   ]
  },
  {
   "cell_type": "code",
   "execution_count": 13,
   "metadata": {},
   "outputs": [],
   "source": [
    "recall_svd_dev = cal_recall(predictions_svd_dev, ERROR_THRESHOLD)\n",
    "recall_nmf_dev = cal_recall(predictions_nmf_dev, ERROR_THRESHOLD)\n",
    "recall_svd_test = cal_recall(predictions_svd_test, ERROR_THRESHOLD)\n",
    "recall_nmf_test = cal_recall(predictions_nmf_test, ERROR_THRESHOLD)"
   ]
  },
  {
   "cell_type": "code",
   "execution_count": 14,
   "metadata": {},
   "outputs": [],
   "source": [
    "def show_recall(recall_list):\n",
    "    return np.array(list(recall_list.values())).mean()"
   ]
  },
  {
   "cell_type": "code",
   "execution_count": 15,
   "metadata": {},
   "outputs": [
    {
     "name": "stdout",
     "output_type": "stream",
     "text": [
      "Dev\n",
      "====================\n",
      "SVD | Recall: 0.9173\n",
      "NMF | Recall: 0.5081\n"
     ]
    }
   ],
   "source": [
    "print(f\"Dev\\n{'='*20}\")\n",
    "print(f\"SVD | Recall: {show_recall(recall_svd_dev):.4f}\");  \n",
    "print(f\"NMF | Recall: {show_recall(recall_nmf_dev):.4f}\");  "
   ]
  },
  {
   "cell_type": "code",
   "execution_count": 16,
   "metadata": {},
   "outputs": [
    {
     "name": "stdout",
     "output_type": "stream",
     "text": [
      "Test\n",
      "====================\n",
      "SVD | Recall: 0.9301\n",
      "NMF | Recall: 0.5393\n"
     ]
    }
   ],
   "source": [
    "print(f\"Test\\n{'='*20}\")\n",
    "print(f\"SVD | Recall: {show_recall(recall_svd_test):.4f}\");  \n",
    "print(f\"NMF | Recall: {show_recall(recall_nmf_test):.4f}\");  "
   ]
  },
  {
   "cell_type": "markdown",
   "metadata": {},
   "source": [
    "### Prediction"
   ]
  },
  {
   "cell_type": "code",
   "execution_count": 17,
   "metadata": {
    "scrolled": true
   },
   "outputs": [
    {
     "data": {
      "image/png": "[encoded data removed]",
      "text/plain": [
       "<Figure size 1152x288 with 2 Axes>"
      ]
     },
     "metadata": {
      "needs_background": "light"
     },
     "output_type": "display_data"
    }
   ],
   "source": [
    "f, (ax1, ax2) = plt.subplots(1, 2, figsize=(16, 4))\n",
    "df_svd_test.estimation.plot(ax=ax1, kind='hist', bins=70, title='SVD on Test Set', color=\"#FF8000\", alpha=0.7, label=\"Prediction\");\n",
    "df_svd_test.rating.plot(ax=ax1, kind='hist', bins=70, color=\"#C62168\", alpha=0.3, label=\"True\"); ax1.legend();\n",
    "df_nmf_test.estimation.plot(ax=ax2, kind='hist', bins=70, title='NMF on Test Set', color=\"#56B4E9\", alpha=0.7, label=\"Prediction\");\n",
    "df_nmf_test.rating.plot(ax=ax2, kind='hist', bins=70, color=\"#8D9440\", alpha=0.3, label=\"True\"); ax2.legend();"
   ]
  },
  {
   "cell_type": "markdown",
   "metadata": {},
   "source": [
    "## Error analysis of SVD"
   ]
  },
  {
   "cell_type": "code",
   "execution_count": 18,
   "metadata": {},
   "outputs": [
    {
     "data": {
      "text/html": [
       "<div>\n",
       "<style scoped>\n",
       "    .dataframe tbody tr th:only-of-type {\n",
       "        vertical-align: middle;\n",
       "    }\n",
       "\n",
       "    .dataframe tbody tr th {\n",
       "        vertical-align: top;\n",
       "    }\n",
       "\n",
       "    .dataframe thead th {\n",
       "        text-align: right;\n",
       "    }\n",
       "</style>\n",
       "<table border=\"1\" class=\"dataframe\">\n",
       "  <thead>\n",
       "    <tr style=\"text-align: right;\">\n",
       "      <th></th>\n",
       "      <th>user_id</th>\n",
       "      <th>item_id</th>\n",
       "      <th>rating</th>\n",
       "      <th>estimation</th>\n",
       "      <th>err</th>\n",
       "    </tr>\n",
       "  </thead>\n",
       "  <tbody>\n",
       "    <tr>\n",
       "      <th>404076</th>\n",
       "      <td>16054</td>\n",
       "      <td>1844</td>\n",
       "      <td>7.0</td>\n",
       "      <td>5.574603</td>\n",
       "      <td>1.425397</td>\n",
       "    </tr>\n",
       "    <tr>\n",
       "      <th>460248</th>\n",
       "      <td>154145</td>\n",
       "      <td>1270</td>\n",
       "      <td>5.0</td>\n",
       "      <td>5.172511</td>\n",
       "      <td>0.172511</td>\n",
       "    </tr>\n",
       "    <tr>\n",
       "      <th>389166</th>\n",
       "      <td>142176</td>\n",
       "      <td>39</td>\n",
       "      <td>5.0</td>\n",
       "      <td>5.108569</td>\n",
       "      <td>0.108569</td>\n",
       "    </tr>\n",
       "    <tr>\n",
       "      <th>97166</th>\n",
       "      <td>67198</td>\n",
       "      <td>475</td>\n",
       "      <td>5.0</td>\n",
       "      <td>4.965177</td>\n",
       "      <td>0.034823</td>\n",
       "    </tr>\n",
       "    <tr>\n",
       "      <th>151885</th>\n",
       "      <td>99490</td>\n",
       "      <td>298</td>\n",
       "      <td>6.0</td>\n",
       "      <td>5.186883</td>\n",
       "      <td>0.813117</td>\n",
       "    </tr>\n",
       "    <tr>\n",
       "      <th>358181</th>\n",
       "      <td>112861</td>\n",
       "      <td>1656</td>\n",
       "      <td>5.0</td>\n",
       "      <td>5.087645</td>\n",
       "      <td>0.087645</td>\n",
       "    </tr>\n",
       "    <tr>\n",
       "      <th>99769</th>\n",
       "      <td>135029</td>\n",
       "      <td>1984</td>\n",
       "      <td>5.0</td>\n",
       "      <td>5.894736</td>\n",
       "      <td>0.894736</td>\n",
       "    </tr>\n",
       "    <tr>\n",
       "      <th>268668</th>\n",
       "      <td>74540</td>\n",
       "      <td>1090</td>\n",
       "      <td>5.0</td>\n",
       "      <td>5.251454</td>\n",
       "      <td>0.251454</td>\n",
       "    </tr>\n",
       "    <tr>\n",
       "      <th>100393</th>\n",
       "      <td>120896</td>\n",
       "      <td>518</td>\n",
       "      <td>5.0</td>\n",
       "      <td>5.034930</td>\n",
       "      <td>0.034930</td>\n",
       "    </tr>\n",
       "    <tr>\n",
       "      <th>17123</th>\n",
       "      <td>65872</td>\n",
       "      <td>1509</td>\n",
       "      <td>5.0</td>\n",
       "      <td>5.054956</td>\n",
       "      <td>0.054956</td>\n",
       "    </tr>\n",
       "  </tbody>\n",
       "</table>\n",
       "</div>"
      ],
      "text/plain": [
       "        user_id  item_id  rating  estimation       err\n",
       "404076    16054     1844     7.0    5.574603  1.425397\n",
       "460248   154145     1270     5.0    5.172511  0.172511\n",
       "389166   142176       39     5.0    5.108569  0.108569\n",
       "97166     67198      475     5.0    4.965177  0.034823\n",
       "151885    99490      298     6.0    5.186883  0.813117\n",
       "358181   112861     1656     5.0    5.087645  0.087645\n",
       "99769    135029     1984     5.0    5.894736  0.894736\n",
       "268668    74540     1090     5.0    5.251454  0.251454\n",
       "100393   120896      518     5.0    5.034930  0.034930\n",
       "17123     65872     1509     5.0    5.054956  0.054956"
      ]
     },
     "execution_count": 18,
     "metadata": {},
     "output_type": "execute_result"
    }
   ],
   "source": [
    "df_svd_test['err'] = abs(df_svd_test.estimation - df_svd_test.rating)\n",
    "df_svd_test.sample(10)"
   ]
  },
  {
   "cell_type": "code",
   "execution_count": 19,
   "metadata": {},
   "outputs": [],
   "source": [
    "best_predictions = df_svd_test.sort_values(by='err')[:10]\n",
    "worst_predictions = df_svd_test.sort_values(by='err')[-10:]"
   ]
  },
  {
   "cell_type": "markdown",
   "metadata": {},
   "source": [
    "Prediction with the smallest error"
   ]
  },
  {
   "cell_type": "code",
   "execution_count": 20,
   "metadata": {},
   "outputs": [
    {
     "data": {
      "text/html": [
       "<div>\n",
       "<style scoped>\n",
       "    .dataframe tbody tr th:only-of-type {\n",
       "        vertical-align: middle;\n",
       "    }\n",
       "\n",
       "    .dataframe tbody tr th {\n",
       "        vertical-align: top;\n",
       "    }\n",
       "\n",
       "    .dataframe thead th {\n",
       "        text-align: right;\n",
       "    }\n",
       "</style>\n",
       "<table border=\"1\" class=\"dataframe\">\n",
       "  <thead>\n",
       "    <tr style=\"text-align: right;\">\n",
       "      <th></th>\n",
       "      <th>user_id</th>\n",
       "      <th>item_id</th>\n",
       "      <th>rating</th>\n",
       "      <th>estimation</th>\n",
       "      <th>err</th>\n",
       "    </tr>\n",
       "  </thead>\n",
       "  <tbody>\n",
       "    <tr>\n",
       "      <th>112542</th>\n",
       "      <td>40465</td>\n",
       "      <td>1346</td>\n",
       "      <td>5.0</td>\n",
       "      <td>5.000000</td>\n",
       "      <td>3.124685e-07</td>\n",
       "    </tr>\n",
       "    <tr>\n",
       "      <th>418962</th>\n",
       "      <td>159378</td>\n",
       "      <td>688</td>\n",
       "      <td>5.0</td>\n",
       "      <td>5.000000</td>\n",
       "      <td>4.134485e-07</td>\n",
       "    </tr>\n",
       "    <tr>\n",
       "      <th>209856</th>\n",
       "      <td>62736</td>\n",
       "      <td>1177</td>\n",
       "      <td>5.0</td>\n",
       "      <td>5.000000</td>\n",
       "      <td>4.762914e-07</td>\n",
       "    </tr>\n",
       "    <tr>\n",
       "      <th>457017</th>\n",
       "      <td>189065</td>\n",
       "      <td>753</td>\n",
       "      <td>5.0</td>\n",
       "      <td>5.000001</td>\n",
       "      <td>6.925932e-07</td>\n",
       "    </tr>\n",
       "    <tr>\n",
       "      <th>11018</th>\n",
       "      <td>104297</td>\n",
       "      <td>1876</td>\n",
       "      <td>5.0</td>\n",
       "      <td>5.000001</td>\n",
       "      <td>8.111332e-07</td>\n",
       "    </tr>\n",
       "    <tr>\n",
       "      <th>158020</th>\n",
       "      <td>51646</td>\n",
       "      <td>198</td>\n",
       "      <td>5.0</td>\n",
       "      <td>5.000001</td>\n",
       "      <td>8.310324e-07</td>\n",
       "    </tr>\n",
       "    <tr>\n",
       "      <th>90943</th>\n",
       "      <td>126586</td>\n",
       "      <td>518</td>\n",
       "      <td>5.0</td>\n",
       "      <td>4.999999</td>\n",
       "      <td>1.085015e-06</td>\n",
       "    </tr>\n",
       "    <tr>\n",
       "      <th>180816</th>\n",
       "      <td>146376</td>\n",
       "      <td>1484</td>\n",
       "      <td>5.0</td>\n",
       "      <td>4.999999</td>\n",
       "      <td>1.098866e-06</td>\n",
       "    </tr>\n",
       "    <tr>\n",
       "      <th>477697</th>\n",
       "      <td>53147</td>\n",
       "      <td>1781</td>\n",
       "      <td>5.0</td>\n",
       "      <td>4.999999</td>\n",
       "      <td>1.129032e-06</td>\n",
       "    </tr>\n",
       "    <tr>\n",
       "      <th>361707</th>\n",
       "      <td>109460</td>\n",
       "      <td>1254</td>\n",
       "      <td>5.0</td>\n",
       "      <td>4.999999</td>\n",
       "      <td>1.235163e-06</td>\n",
       "    </tr>\n",
       "  </tbody>\n",
       "</table>\n",
       "</div>"
      ],
      "text/plain": [
       "        user_id  item_id  rating  estimation           err\n",
       "112542    40465     1346     5.0    5.000000  3.124685e-07\n",
       "418962   159378      688     5.0    5.000000  4.134485e-07\n",
       "209856    62736     1177     5.0    5.000000  4.762914e-07\n",
       "457017   189065      753     5.0    5.000001  6.925932e-07\n",
       "11018    104297     1876     5.0    5.000001  8.111332e-07\n",
       "158020    51646      198     5.0    5.000001  8.310324e-07\n",
       "90943    126586      518     5.0    4.999999  1.085015e-06\n",
       "180816   146376     1484     5.0    4.999999  1.098866e-06\n",
       "477697    53147     1781     5.0    4.999999  1.129032e-06\n",
       "361707   109460     1254     5.0    4.999999  1.235163e-06"
      ]
     },
     "execution_count": 20,
     "metadata": {},
     "output_type": "execute_result"
    }
   ],
   "source": [
    "best_predictions"
   ]
  },
  {
   "cell_type": "markdown",
   "metadata": {},
   "source": [
    "Prediction with the biggest error"
   ]
  },
  {
   "cell_type": "code",
   "execution_count": 21,
   "metadata": {},
   "outputs": [
    {
     "data": {
      "text/html": [
       "<div>\n",
       "<style scoped>\n",
       "    .dataframe tbody tr th:only-of-type {\n",
       "        vertical-align: middle;\n",
       "    }\n",
       "\n",
       "    .dataframe tbody tr th {\n",
       "        vertical-align: top;\n",
       "    }\n",
       "\n",
       "    .dataframe thead th {\n",
       "        text-align: right;\n",
       "    }\n",
       "</style>\n",
       "<table border=\"1\" class=\"dataframe\">\n",
       "  <thead>\n",
       "    <tr style=\"text-align: right;\">\n",
       "      <th></th>\n",
       "      <th>user_id</th>\n",
       "      <th>item_id</th>\n",
       "      <th>rating</th>\n",
       "      <th>estimation</th>\n",
       "      <th>err</th>\n",
       "    </tr>\n",
       "  </thead>\n",
       "  <tbody>\n",
       "    <tr>\n",
       "      <th>491784</th>\n",
       "      <td>148668</td>\n",
       "      <td>1758</td>\n",
       "      <td>10.0</td>\n",
       "      <td>5.022196</td>\n",
       "      <td>4.977804</td>\n",
       "    </tr>\n",
       "    <tr>\n",
       "      <th>299182</th>\n",
       "      <td>104665</td>\n",
       "      <td>1277</td>\n",
       "      <td>10.0</td>\n",
       "      <td>5.010881</td>\n",
       "      <td>4.989119</td>\n",
       "    </tr>\n",
       "    <tr>\n",
       "      <th>102153</th>\n",
       "      <td>193426</td>\n",
       "      <td>1177</td>\n",
       "      <td>10.0</td>\n",
       "      <td>5.006700</td>\n",
       "      <td>4.993300</td>\n",
       "    </tr>\n",
       "    <tr>\n",
       "      <th>419501</th>\n",
       "      <td>154849</td>\n",
       "      <td>18</td>\n",
       "      <td>10.0</td>\n",
       "      <td>4.997753</td>\n",
       "      <td>5.002247</td>\n",
       "    </tr>\n",
       "    <tr>\n",
       "      <th>488257</th>\n",
       "      <td>87937</td>\n",
       "      <td>1714</td>\n",
       "      <td>10.0</td>\n",
       "      <td>4.992801</td>\n",
       "      <td>5.007199</td>\n",
       "    </tr>\n",
       "    <tr>\n",
       "      <th>43822</th>\n",
       "      <td>51405</td>\n",
       "      <td>1793</td>\n",
       "      <td>10.0</td>\n",
       "      <td>4.991969</td>\n",
       "      <td>5.008031</td>\n",
       "    </tr>\n",
       "    <tr>\n",
       "      <th>286824</th>\n",
       "      <td>108821</td>\n",
       "      <td>1739</td>\n",
       "      <td>10.0</td>\n",
       "      <td>4.989517</td>\n",
       "      <td>5.010483</td>\n",
       "    </tr>\n",
       "    <tr>\n",
       "      <th>221413</th>\n",
       "      <td>66025</td>\n",
       "      <td>136</td>\n",
       "      <td>10.0</td>\n",
       "      <td>4.933310</td>\n",
       "      <td>5.066690</td>\n",
       "    </tr>\n",
       "    <tr>\n",
       "      <th>121797</th>\n",
       "      <td>143951</td>\n",
       "      <td>1998</td>\n",
       "      <td>10.0</td>\n",
       "      <td>4.877748</td>\n",
       "      <td>5.122252</td>\n",
       "    </tr>\n",
       "    <tr>\n",
       "      <th>114665</th>\n",
       "      <td>54347</td>\n",
       "      <td>1844</td>\n",
       "      <td>10.0</td>\n",
       "      <td>4.865435</td>\n",
       "      <td>5.134565</td>\n",
       "    </tr>\n",
       "  </tbody>\n",
       "</table>\n",
       "</div>"
      ],
      "text/plain": [
       "        user_id  item_id  rating  estimation       err\n",
       "491784   148668     1758    10.0    5.022196  4.977804\n",
       "299182   104665     1277    10.0    5.010881  4.989119\n",
       "102153   193426     1177    10.0    5.006700  4.993300\n",
       "419501   154849       18    10.0    4.997753  5.002247\n",
       "488257    87937     1714    10.0    4.992801  5.007199\n",
       "43822     51405     1793    10.0    4.991969  5.008031\n",
       "286824   108821     1739    10.0    4.989517  5.010483\n",
       "221413    66025      136    10.0    4.933310  5.066690\n",
       "121797   143951     1998    10.0    4.877748  5.122252\n",
       "114665    54347     1844    10.0    4.865435  5.134565"
      ]
     },
     "execution_count": 21,
     "metadata": {},
     "output_type": "execute_result"
    }
   ],
   "source": [
    "worst_predictions"
   ]
  },
  {
   "cell_type": "code",
   "execution_count": 22,
   "metadata": {},
   "outputs": [
    {
     "data": {
      "image/png": "[encoded data removed]",
      "text/plain": [
       "<Figure size 432x288 with 1 Axes>"
      ]
     },
     "metadata": {
      "needs_background": "light"
     },
     "output_type": "display_data"
    }
   ],
   "source": [
    "df_svd_test['err'].hist(bins=50, alpha=0.5)\n",
    "plt.xlabel(\"error\")\n",
    "plt.title(\"Histogram of estimation error\");"
   ]
  },
  {
   "cell_type": "markdown",
   "metadata": {},
   "source": [
    "## Recommendations"
   ]
  },
  {
   "cell_type": "code",
   "execution_count": 23,
   "metadata": {
    "scrolled": true
   },
   "outputs": [],
   "source": [
    "import json\n",
    "from collab_filter import top_k\n",
    "from pathlib import Path"
   ]
  },
  {
   "cell_type": "code",
   "execution_count": 25,
   "metadata": {
    "scrolled": true
   },
   "outputs": [],
   "source": [
    "top_5 = top_k(predictions_svd_test, 5)\n",
    "dictionary = json.load(Path(\"data/preprocessed/dictionary.json\").open(encoding=\"utf-8\"))"
   ]
  },
  {
   "cell_type": "code",
   "execution_count": 26,
   "metadata": {},
   "outputs": [],
   "source": [
    "recipe_id_to_english = {ind: v for ind, (k, v) in enumerate(dictionary.items())}"
   ]
  },
  {
   "cell_type": "code",
   "execution_count": 27,
   "metadata": {},
   "outputs": [],
   "source": [
    "def display_recommend(data, dictionary, ind=None):\n",
    "    if ind is None:\n",
    "        ind = np.random.randint(0, high=len(data))\n",
    "    try:\n",
    "        print(f\"Recommendation for user [{ind}]\")\n",
    "        for recipe_id, rates in data[ind]:\n",
    "            print(f\"·{dictionary[recipe_id]}: {rates:.3f}\")\n",
    "    except KeyError:\n",
    "        print(f\"User {ind} doesn't exist.\")"
   ]
  },
  {
   "cell_type": "code",
   "execution_count": 28,
   "metadata": {},
   "outputs": [
    {
     "name": "stdout",
     "output_type": "stream",
     "text": [
      "Recommendation for user [76776]\n",
      "·Shrimp Wonton: 5.200\n",
      "·Steamed Rice Rolls with Shrimp and Water Chestnuts: 5.128\n",
      "·Fried Spare Ribs, Wuxi Style: 5.001\n",
      "·Fried Egg with Ham: 4.968\n"
     ]
    }
   ],
   "source": [
    "display_recommend(top_5, recipe_id_to_english)"
   ]
  },
  {
   "cell_type": "markdown",
   "metadata": {},
   "source": [
    "## *Appendix: Grid search*"
   ]
  },
  {
   "cell_type": "code",
   "execution_count": 29,
   "metadata": {},
   "outputs": [],
   "source": [
    "from collab_filter import load_dataset\n",
    "from surprise import SVD\n",
    "from surprise.model_selection import GridSearchCV, KFold"
   ]
  },
  {
   "cell_type": "code",
   "execution_count": 30,
   "metadata": {},
   "outputs": [],
   "source": [
    "def train_grid_search():\n",
    "    data = load_dataset()\n",
    "    param_grid = {'n_epochs': [5, 10], 'lr_all': [0.002, 0.005], 'reg_all' : [0.4, 0.6]}\n",
    "    gs = GridSearchCV(SVD, param_grid, measures=['rmse', 'mae'], cv=3)\n",
    "    gs.fit(data)\n",
    "    table = [[] for _ in range(len(gs.cv_results['params']))]\n",
    "    for i in range(len(gs.cv_results['params'])):\n",
    "        for key in gs.cv_results.keys():\n",
    "            table[i].append(gs.cv_results[key][i])\n",
    "    headers = gs.cv_results.keys()\n",
    "    return pd.DataFrame(table, columns=headers, index=gs.cv_results[\"params\"])"
   ]
  },
  {
   "cell_type": "code",
   "execution_count": 31,
   "metadata": {},
   "outputs": [],
   "source": [
    "csv_path = Path(\"res/svd_grid_serach.csv\")\n",
    "if csv_path.exists():\n",
    "    df = pd.read_csv(str(csv_path), index_col=0)\n",
    "else:\n",
    "    df = train_grid_search()\n",
    "    df.to_csv(str(csv_path))"
   ]
  },
  {
   "cell_type": "code",
   "execution_count": 32,
   "metadata": {},
   "outputs": [
    {
     "data": {
      "text/html": [
       "<div>\n",
       "<style scoped>\n",
       "    .dataframe tbody tr th:only-of-type {\n",
       "        vertical-align: middle;\n",
       "    }\n",
       "\n",
       "    .dataframe tbody tr th {\n",
       "        vertical-align: top;\n",
       "    }\n",
       "\n",
       "    .dataframe thead th {\n",
       "        text-align: right;\n",
       "    }\n",
       "</style>\n",
       "<table border=\"1\" class=\"dataframe\">\n",
       "  <thead>\n",
       "    <tr style=\"text-align: right;\">\n",
       "      <th></th>\n",
       "      <th>split0_test_rmse</th>\n",
       "      <th>split1_test_rmse</th>\n",
       "      <th>split2_test_rmse</th>\n",
       "      <th>mean_test_rmse</th>\n",
       "      <th>std_test_rmse</th>\n",
       "      <th>rank_test_rmse</th>\n",
       "      <th>split0_test_mae</th>\n",
       "      <th>split1_test_mae</th>\n",
       "      <th>split2_test_mae</th>\n",
       "      <th>mean_test_mae</th>\n",
       "      <th>std_test_mae</th>\n",
       "      <th>rank_test_mae</th>\n",
       "      <th>mean_fit_time</th>\n",
       "      <th>std_fit_time</th>\n",
       "      <th>mean_test_time</th>\n",
       "      <th>std_test_time</th>\n",
       "    </tr>\n",
       "    <tr>\n",
       "      <th>params</th>\n",
       "      <th></th>\n",
       "      <th></th>\n",
       "      <th></th>\n",
       "      <th></th>\n",
       "      <th></th>\n",
       "      <th></th>\n",
       "      <th></th>\n",
       "      <th></th>\n",
       "      <th></th>\n",
       "      <th></th>\n",
       "      <th></th>\n",
       "      <th></th>\n",
       "      <th></th>\n",
       "      <th></th>\n",
       "      <th></th>\n",
       "      <th></th>\n",
       "    </tr>\n",
       "  </thead>\n",
       "  <tbody>\n",
       "    <tr>\n",
       "      <th>{'n_epochs': 5, 'lr_all': 0.002, 'reg_all': 0.4}</th>\n",
       "      <td>0.3644</td>\n",
       "      <td>0.3609</td>\n",
       "      <td>0.3628</td>\n",
       "      <td>0.3627</td>\n",
       "      <td>0.0014</td>\n",
       "      <td>6</td>\n",
       "      <td>0.1582</td>\n",
       "      <td>0.1577</td>\n",
       "      <td>0.1582</td>\n",
       "      <td>0.1580</td>\n",
       "      <td>0.0002</td>\n",
       "      <td>4</td>\n",
       "      <td>29.4713</td>\n",
       "      <td>0.0564</td>\n",
       "      <td>8.9317</td>\n",
       "      <td>0.0898</td>\n",
       "    </tr>\n",
       "    <tr>\n",
       "      <th>{'n_epochs': 5, 'lr_all': 0.002, 'reg_all': 0.6}</th>\n",
       "      <td>0.3650</td>\n",
       "      <td>0.3614</td>\n",
       "      <td>0.3634</td>\n",
       "      <td>0.3633</td>\n",
       "      <td>0.0014</td>\n",
       "      <td>8</td>\n",
       "      <td>0.1593</td>\n",
       "      <td>0.1588</td>\n",
       "      <td>0.1594</td>\n",
       "      <td>0.1592</td>\n",
       "      <td>0.0003</td>\n",
       "      <td>7</td>\n",
       "      <td>28.8231</td>\n",
       "      <td>0.1532</td>\n",
       "      <td>8.8813</td>\n",
       "      <td>0.0402</td>\n",
       "    </tr>\n",
       "    <tr>\n",
       "      <th>{'n_epochs': 5, 'lr_all': 0.005, 'reg_all': 0.4}</th>\n",
       "      <td>0.3638</td>\n",
       "      <td>0.3603</td>\n",
       "      <td>0.3620</td>\n",
       "      <td>0.3620</td>\n",
       "      <td>0.0014</td>\n",
       "      <td>2</td>\n",
       "      <td>0.1573</td>\n",
       "      <td>0.1568</td>\n",
       "      <td>0.1581</td>\n",
       "      <td>0.1574</td>\n",
       "      <td>0.0005</td>\n",
       "      <td>1</td>\n",
       "      <td>29.3047</td>\n",
       "      <td>0.7659</td>\n",
       "      <td>9.3364</td>\n",
       "      <td>0.7014</td>\n",
       "    </tr>\n",
       "    <tr>\n",
       "      <th>{'n_epochs': 5, 'lr_all': 0.005, 'reg_all': 0.6}</th>\n",
       "      <td>0.3645</td>\n",
       "      <td>0.3609</td>\n",
       "      <td>0.3626</td>\n",
       "      <td>0.3627</td>\n",
       "      <td>0.0015</td>\n",
       "      <td>5</td>\n",
       "      <td>0.1587</td>\n",
       "      <td>0.1582</td>\n",
       "      <td>0.1595</td>\n",
       "      <td>0.1588</td>\n",
       "      <td>0.0005</td>\n",
       "      <td>6</td>\n",
       "      <td>29.8173</td>\n",
       "      <td>0.9193</td>\n",
       "      <td>9.6570</td>\n",
       "      <td>1.1730</td>\n",
       "    </tr>\n",
       "    <tr>\n",
       "      <th>{'n_epochs': 10, 'lr_all': 0.002, 'reg_all': 0.4}</th>\n",
       "      <td>0.3637</td>\n",
       "      <td>0.3601</td>\n",
       "      <td>0.3621</td>\n",
       "      <td>0.3620</td>\n",
       "      <td>0.0014</td>\n",
       "      <td>1</td>\n",
       "      <td>0.1581</td>\n",
       "      <td>0.1575</td>\n",
       "      <td>0.1580</td>\n",
       "      <td>0.1579</td>\n",
       "      <td>0.0002</td>\n",
       "      <td>3</td>\n",
       "      <td>56.7222</td>\n",
       "      <td>0.0553</td>\n",
       "      <td>9.3279</td>\n",
       "      <td>0.6558</td>\n",
       "    </tr>\n",
       "    <tr>\n",
       "      <th>{'n_epochs': 10, 'lr_all': 0.002, 'reg_all': 0.6}</th>\n",
       "      <td>0.3644</td>\n",
       "      <td>0.3608</td>\n",
       "      <td>0.3628</td>\n",
       "      <td>0.3626</td>\n",
       "      <td>0.0014</td>\n",
       "      <td>4</td>\n",
       "      <td>0.1594</td>\n",
       "      <td>0.1588</td>\n",
       "      <td>0.1594</td>\n",
       "      <td>0.1592</td>\n",
       "      <td>0.0003</td>\n",
       "      <td>8</td>\n",
       "      <td>56.8888</td>\n",
       "      <td>0.2027</td>\n",
       "      <td>8.9146</td>\n",
       "      <td>0.0008</td>\n",
       "    </tr>\n",
       "    <tr>\n",
       "      <th>{'n_epochs': 10, 'lr_all': 0.005, 'reg_all': 0.4}</th>\n",
       "      <td>0.3641</td>\n",
       "      <td>0.3605</td>\n",
       "      <td>0.3623</td>\n",
       "      <td>0.3623</td>\n",
       "      <td>0.0015</td>\n",
       "      <td>3</td>\n",
       "      <td>0.1574</td>\n",
       "      <td>0.1570</td>\n",
       "      <td>0.1582</td>\n",
       "      <td>0.1575</td>\n",
       "      <td>0.0005</td>\n",
       "      <td>2</td>\n",
       "      <td>56.7971</td>\n",
       "      <td>0.1359</td>\n",
       "      <td>8.8146</td>\n",
       "      <td>0.0142</td>\n",
       "    </tr>\n",
       "    <tr>\n",
       "      <th>{'n_epochs': 10, 'lr_all': 0.005, 'reg_all': 0.6}</th>\n",
       "      <td>0.3647</td>\n",
       "      <td>0.3611</td>\n",
       "      <td>0.3629</td>\n",
       "      <td>0.3629</td>\n",
       "      <td>0.0015</td>\n",
       "      <td>7</td>\n",
       "      <td>0.1585</td>\n",
       "      <td>0.1581</td>\n",
       "      <td>0.1593</td>\n",
       "      <td>0.1586</td>\n",
       "      <td>0.0005</td>\n",
       "      <td>5</td>\n",
       "      <td>56.8352</td>\n",
       "      <td>0.1780</td>\n",
       "      <td>9.3248</td>\n",
       "      <td>0.6603</td>\n",
       "    </tr>\n",
       "  </tbody>\n",
       "</table>\n",
       "</div>"
      ],
      "text/plain": [
       "                                                   split0_test_rmse  \\\n",
       "params                                                                \n",
       "{'n_epochs': 5, 'lr_all': 0.002, 'reg_all': 0.4}             0.3644   \n",
       "{'n_epochs': 5, 'lr_all': 0.002, 'reg_all': 0.6}             0.3650   \n",
       "{'n_epochs': 5, 'lr_all': 0.005, 'reg_all': 0.4}             0.3638   \n",
       "{'n_epochs': 5, 'lr_all': 0.005, 'reg_all': 0.6}             0.3645   \n",
       "{'n_epochs': 10, 'lr_all': 0.002, 'reg_all': 0.4}            0.3637   \n",
       "{'n_epochs': 10, 'lr_all': 0.002, 'reg_all': 0.6}            0.3644   \n",
       "{'n_epochs': 10, 'lr_all': 0.005, 'reg_all': 0.4}            0.3641   \n",
       "{'n_epochs': 10, 'lr_all': 0.005, 'reg_all': 0.6}            0.3647   \n",
       "\n",
       "                                                   split1_test_rmse  \\\n",
       "params                                                                \n",
       "{'n_epochs': 5, 'lr_all': 0.002, 'reg_all': 0.4}             0.3609   \n",
       "{'n_epochs': 5, 'lr_all': 0.002, 'reg_all': 0.6}             0.3614   \n",
       "{'n_epochs': 5, 'lr_all': 0.005, 'reg_all': 0.4}             0.3603   \n",
       "{'n_epochs': 5, 'lr_all': 0.005, 'reg_all': 0.6}             0.3609   \n",
       "{'n_epochs': 10, 'lr_all': 0.002, 'reg_all': 0.4}            0.3601   \n",
       "{'n_epochs': 10, 'lr_all': 0.002, 'reg_all': 0.6}            0.3608   \n",
       "{'n_epochs': 10, 'lr_all': 0.005, 'reg_all': 0.4}            0.3605   \n",
       "{'n_epochs': 10, 'lr_all': 0.005, 'reg_all': 0.6}            0.3611   \n",
       "\n",
       "                                                   split2_test_rmse  \\\n",
       "params                                                                \n",
       "{'n_epochs': 5, 'lr_all': 0.002, 'reg_all': 0.4}             0.3628   \n",
       "{'n_epochs': 5, 'lr_all': 0.002, 'reg_all': 0.6}             0.3634   \n",
       "{'n_epochs': 5, 'lr_all': 0.005, 'reg_all': 0.4}             0.3620   \n",
       "{'n_epochs': 5, 'lr_all': 0.005, 'reg_all': 0.6}             0.3626   \n",
       "{'n_epochs': 10, 'lr_all': 0.002, 'reg_all': 0.4}            0.3621   \n",
       "{'n_epochs': 10, 'lr_all': 0.002, 'reg_all': 0.6}            0.3628   \n",
       "{'n_epochs': 10, 'lr_all': 0.005, 'reg_all': 0.4}            0.3623   \n",
       "{'n_epochs': 10, 'lr_all': 0.005, 'reg_all': 0.6}            0.3629   \n",
       "\n",
       "                                                   mean_test_rmse  \\\n",
       "params                                                              \n",
       "{'n_epochs': 5, 'lr_all': 0.002, 'reg_all': 0.4}           0.3627   \n",
       "{'n_epochs': 5, 'lr_all': 0.002, 'reg_all': 0.6}           0.3633   \n",
       "{'n_epochs': 5, 'lr_all': 0.005, 'reg_all': 0.4}           0.3620   \n",
       "{'n_epochs': 5, 'lr_all': 0.005, 'reg_all': 0.6}           0.3627   \n",
       "{'n_epochs': 10, 'lr_all': 0.002, 'reg_all': 0.4}          0.3620   \n",
       "{'n_epochs': 10, 'lr_all': 0.002, 'reg_all': 0.6}          0.3626   \n",
       "{'n_epochs': 10, 'lr_all': 0.005, 'reg_all': 0.4}          0.3623   \n",
       "{'n_epochs': 10, 'lr_all': 0.005, 'reg_all': 0.6}          0.3629   \n",
       "\n",
       "                                                   std_test_rmse  \\\n",
       "params                                                             \n",
       "{'n_epochs': 5, 'lr_all': 0.002, 'reg_all': 0.4}          0.0014   \n",
       "{'n_epochs': 5, 'lr_all': 0.002, 'reg_all': 0.6}          0.0014   \n",
       "{'n_epochs': 5, 'lr_all': 0.005, 'reg_all': 0.4}          0.0014   \n",
       "{'n_epochs': 5, 'lr_all': 0.005, 'reg_all': 0.6}          0.0015   \n",
       "{'n_epochs': 10, 'lr_all': 0.002, 'reg_all': 0.4}         0.0014   \n",
       "{'n_epochs': 10, 'lr_all': 0.002, 'reg_all': 0.6}         0.0014   \n",
       "{'n_epochs': 10, 'lr_all': 0.005, 'reg_all': 0.4}         0.0015   \n",
       "{'n_epochs': 10, 'lr_all': 0.005, 'reg_all': 0.6}         0.0015   \n",
       "\n",
       "                                                   rank_test_rmse  \\\n",
       "params                                                              \n",
       "{'n_epochs': 5, 'lr_all': 0.002, 'reg_all': 0.4}                6   \n",
       "{'n_epochs': 5, 'lr_all': 0.002, 'reg_all': 0.6}                8   \n",
       "{'n_epochs': 5, 'lr_all': 0.005, 'reg_all': 0.4}                2   \n",
       "{'n_epochs': 5, 'lr_all': 0.005, 'reg_all': 0.6}                5   \n",
       "{'n_epochs': 10, 'lr_all': 0.002, 'reg_all': 0.4}               1   \n",
       "{'n_epochs': 10, 'lr_all': 0.002, 'reg_all': 0.6}               4   \n",
       "{'n_epochs': 10, 'lr_all': 0.005, 'reg_all': 0.4}               3   \n",
       "{'n_epochs': 10, 'lr_all': 0.005, 'reg_all': 0.6}               7   \n",
       "\n",
       "                                                   split0_test_mae  \\\n",
       "params                                                               \n",
       "{'n_epochs': 5, 'lr_all': 0.002, 'reg_all': 0.4}            0.1582   \n",
       "{'n_epochs': 5, 'lr_all': 0.002, 'reg_all': 0.6}            0.1593   \n",
       "{'n_epochs': 5, 'lr_all': 0.005, 'reg_all': 0.4}            0.1573   \n",
       "{'n_epochs': 5, 'lr_all': 0.005, 'reg_all': 0.6}            0.1587   \n",
       "{'n_epochs': 10, 'lr_all': 0.002, 'reg_all': 0.4}           0.1581   \n",
       "{'n_epochs': 10, 'lr_all': 0.002, 'reg_all': 0.6}           0.1594   \n",
       "{'n_epochs': 10, 'lr_all': 0.005, 'reg_all': 0.4}           0.1574   \n",
       "{'n_epochs': 10, 'lr_all': 0.005, 'reg_all': 0.6}           0.1585   \n",
       "\n",
       "                                                   split1_test_mae  \\\n",
       "params                                                               \n",
       "{'n_epochs': 5, 'lr_all': 0.002, 'reg_all': 0.4}            0.1577   \n",
       "{'n_epochs': 5, 'lr_all': 0.002, 'reg_all': 0.6}            0.1588   \n",
       "{'n_epochs': 5, 'lr_all': 0.005, 'reg_all': 0.4}            0.1568   \n",
       "{'n_epochs': 5, 'lr_all': 0.005, 'reg_all': 0.6}            0.1582   \n",
       "{'n_epochs': 10, 'lr_all': 0.002, 'reg_all': 0.4}           0.1575   \n",
       "{'n_epochs': 10, 'lr_all': 0.002, 'reg_all': 0.6}           0.1588   \n",
       "{'n_epochs': 10, 'lr_all': 0.005, 'reg_all': 0.4}           0.1570   \n",
       "{'n_epochs': 10, 'lr_all': 0.005, 'reg_all': 0.6}           0.1581   \n",
       "\n",
       "                                                   split2_test_mae  \\\n",
       "params                                                               \n",
       "{'n_epochs': 5, 'lr_all': 0.002, 'reg_all': 0.4}            0.1582   \n",
       "{'n_epochs': 5, 'lr_all': 0.002, 'reg_all': 0.6}            0.1594   \n",
       "{'n_epochs': 5, 'lr_all': 0.005, 'reg_all': 0.4}            0.1581   \n",
       "{'n_epochs': 5, 'lr_all': 0.005, 'reg_all': 0.6}            0.1595   \n",
       "{'n_epochs': 10, 'lr_all': 0.002, 'reg_all': 0.4}           0.1580   \n",
       "{'n_epochs': 10, 'lr_all': 0.002, 'reg_all': 0.6}           0.1594   \n",
       "{'n_epochs': 10, 'lr_all': 0.005, 'reg_all': 0.4}           0.1582   \n",
       "{'n_epochs': 10, 'lr_all': 0.005, 'reg_all': 0.6}           0.1593   \n",
       "\n",
       "                                                   mean_test_mae  \\\n",
       "params                                                             \n",
       "{'n_epochs': 5, 'lr_all': 0.002, 'reg_all': 0.4}          0.1580   \n",
       "{'n_epochs': 5, 'lr_all': 0.002, 'reg_all': 0.6}          0.1592   \n",
       "{'n_epochs': 5, 'lr_all': 0.005, 'reg_all': 0.4}          0.1574   \n",
       "{'n_epochs': 5, 'lr_all': 0.005, 'reg_all': 0.6}          0.1588   \n",
       "{'n_epochs': 10, 'lr_all': 0.002, 'reg_all': 0.4}         0.1579   \n",
       "{'n_epochs': 10, 'lr_all': 0.002, 'reg_all': 0.6}         0.1592   \n",
       "{'n_epochs': 10, 'lr_all': 0.005, 'reg_all': 0.4}         0.1575   \n",
       "{'n_epochs': 10, 'lr_all': 0.005, 'reg_all': 0.6}         0.1586   \n",
       "\n",
       "                                                   std_test_mae  \\\n",
       "params                                                            \n",
       "{'n_epochs': 5, 'lr_all': 0.002, 'reg_all': 0.4}         0.0002   \n",
       "{'n_epochs': 5, 'lr_all': 0.002, 'reg_all': 0.6}         0.0003   \n",
       "{'n_epochs': 5, 'lr_all': 0.005, 'reg_all': 0.4}         0.0005   \n",
       "{'n_epochs': 5, 'lr_all': 0.005, 'reg_all': 0.6}         0.0005   \n",
       "{'n_epochs': 10, 'lr_all': 0.002, 'reg_all': 0.4}        0.0002   \n",
       "{'n_epochs': 10, 'lr_all': 0.002, 'reg_all': 0.6}        0.0003   \n",
       "{'n_epochs': 10, 'lr_all': 0.005, 'reg_all': 0.4}        0.0005   \n",
       "{'n_epochs': 10, 'lr_all': 0.005, 'reg_all': 0.6}        0.0005   \n",
       "\n",
       "                                                   rank_test_mae  \\\n",
       "params                                                             \n",
       "{'n_epochs': 5, 'lr_all': 0.002, 'reg_all': 0.4}               4   \n",
       "{'n_epochs': 5, 'lr_all': 0.002, 'reg_all': 0.6}               7   \n",
       "{'n_epochs': 5, 'lr_all': 0.005, 'reg_all': 0.4}               1   \n",
       "{'n_epochs': 5, 'lr_all': 0.005, 'reg_all': 0.6}               6   \n",
       "{'n_epochs': 10, 'lr_all': 0.002, 'reg_all': 0.4}              3   \n",
       "{'n_epochs': 10, 'lr_all': 0.002, 'reg_all': 0.6}              8   \n",
       "{'n_epochs': 10, 'lr_all': 0.005, 'reg_all': 0.4}              2   \n",
       "{'n_epochs': 10, 'lr_all': 0.005, 'reg_all': 0.6}              5   \n",
       "\n",
       "                                                   mean_fit_time  \\\n",
       "params                                                             \n",
       "{'n_epochs': 5, 'lr_all': 0.002, 'reg_all': 0.4}         29.4713   \n",
       "{'n_epochs': 5, 'lr_all': 0.002, 'reg_all': 0.6}         28.8231   \n",
       "{'n_epochs': 5, 'lr_all': 0.005, 'reg_all': 0.4}         29.3047   \n",
       "{'n_epochs': 5, 'lr_all': 0.005, 'reg_all': 0.6}         29.8173   \n",
       "{'n_epochs': 10, 'lr_all': 0.002, 'reg_all': 0.4}        56.7222   \n",
       "{'n_epochs': 10, 'lr_all': 0.002, 'reg_all': 0.6}        56.8888   \n",
       "{'n_epochs': 10, 'lr_all': 0.005, 'reg_all': 0.4}        56.7971   \n",
       "{'n_epochs': 10, 'lr_all': 0.005, 'reg_all': 0.6}        56.8352   \n",
       "\n",
       "                                                   std_fit_time  \\\n",
       "params                                                            \n",
       "{'n_epochs': 5, 'lr_all': 0.002, 'reg_all': 0.4}         0.0564   \n",
       "{'n_epochs': 5, 'lr_all': 0.002, 'reg_all': 0.6}         0.1532   \n",
       "{'n_epochs': 5, 'lr_all': 0.005, 'reg_all': 0.4}         0.7659   \n",
       "{'n_epochs': 5, 'lr_all': 0.005, 'reg_all': 0.6}         0.9193   \n",
       "{'n_epochs': 10, 'lr_all': 0.002, 'reg_all': 0.4}        0.0553   \n",
       "{'n_epochs': 10, 'lr_all': 0.002, 'reg_all': 0.6}        0.2027   \n",
       "{'n_epochs': 10, 'lr_all': 0.005, 'reg_all': 0.4}        0.1359   \n",
       "{'n_epochs': 10, 'lr_all': 0.005, 'reg_all': 0.6}        0.1780   \n",
       "\n",
       "                                                   mean_test_time  \\\n",
       "params                                                              \n",
       "{'n_epochs': 5, 'lr_all': 0.002, 'reg_all': 0.4}           8.9317   \n",
       "{'n_epochs': 5, 'lr_all': 0.002, 'reg_all': 0.6}           8.8813   \n",
       "{'n_epochs': 5, 'lr_all': 0.005, 'reg_all': 0.4}           9.3364   \n",
       "{'n_epochs': 5, 'lr_all': 0.005, 'reg_all': 0.6}           9.6570   \n",
       "{'n_epochs': 10, 'lr_all': 0.002, 'reg_all': 0.4}          9.3279   \n",
       "{'n_epochs': 10, 'lr_all': 0.002, 'reg_all': 0.6}          8.9146   \n",
       "{'n_epochs': 10, 'lr_all': 0.005, 'reg_all': 0.4}          8.8146   \n",
       "{'n_epochs': 10, 'lr_all': 0.005, 'reg_all': 0.6}          9.3248   \n",
       "\n",
       "                                                   std_test_time  \n",
       "params                                                            \n",
       "{'n_epochs': 5, 'lr_all': 0.002, 'reg_all': 0.4}          0.0898  \n",
       "{'n_epochs': 5, 'lr_all': 0.002, 'reg_all': 0.6}          0.0402  \n",
       "{'n_epochs': 5, 'lr_all': 0.005, 'reg_all': 0.4}          0.7014  \n",
       "{'n_epochs': 5, 'lr_all': 0.005, 'reg_all': 0.6}          1.1730  \n",
       "{'n_epochs': 10, 'lr_all': 0.002, 'reg_all': 0.4}         0.6558  \n",
       "{'n_epochs': 10, 'lr_all': 0.002, 'reg_all': 0.6}         0.0008  \n",
       "{'n_epochs': 10, 'lr_all': 0.005, 'reg_all': 0.4}         0.0142  \n",
       "{'n_epochs': 10, 'lr_all': 0.005, 'reg_all': 0.6}         0.6603  "
      ]
     },
     "execution_count": 32,
     "metadata": {},
     "output_type": "execute_result"
    }
   ],
   "source": [
    "# Remove repeated columns for better \n",
    "pd.options.display.float_format = '{:.4f}'.format\n",
    "df.index.rename('params', inplace=True)\n",
    "df.drop([h for h in df.head() if h .startswith(\"param\")], axis=1)"
   ]
  }
 ],
 "metadata": {
  "kernelspec": {
   "display_name": "Py3",
   "language": "python",
   "name": "py3"
  },
  "language_info": {
   "codemirror_mode": {
    "name": "ipython",
    "version": 3
   },
   "file_extension": ".py",
   "mimetype": "text/x-python",
   "name": "python",
   "nbconvert_exporter": "python",
   "pygments_lexer": "ipython3",
   "version": "3.6.6"
  }
 },
 "nbformat": 4,
 "nbformat_minor": 2
}
